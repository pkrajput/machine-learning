{
  "cells": [
    {
      "cell_type": "markdown",
      "id": "approved-psychology",
      "metadata": {
        "id": "approved-psychology"
      },
      "source": [
        "# Home Assignment No. 2 - part one\n",
        "\n",
        "To solve this task, you will write a lot of code to try several machine learning methods for classification and regression.\n",
        "* You are **HIGHLY RECOMMENDED** to read relevant documentation, e.g. for [python](https://docs.python.org/3/), [numpy](https://docs.scipy.org/doc/numpy/reference/), [matlpotlib](https://matplotlib.org/) and [sklearn](https://scikit-learn.org/stable/). Also remember that seminars, lecture slides, [Google](http://google.com) and [StackOverflow](https://stackoverflow.com/) are your close friends during this course (and, probably, whole life?).\n",
        "\n",
        "* If you want an easy life, you have to use **BUILT-IN METHODS** of `sklearn` library instead of writing tons of your own code. There exists a class/method for almost everything you can imagine (related to this homework).\n",
        "\n",
        "* You have to write **CODE** directly inside specified places marked by comments: **BEGIN/END Solution**. Do not create new cells.\n",
        "\n",
        "* In some problems you are asked to provide a short discussion of the results. For that find the specific place marked via **Your text answer: \\<write your answer\\>**.\n",
        "\n",
        "* For every separate problem or subproblem (if specified) you can get only 0 points or maximal points for this problem. There are **NO INTERMEDIATE scores**. So make sure that you did everything required in the task.\n",
        "\n",
        "* Your **SOLUTION** notebook **MUST BE REPRODUCIBLE**, i.e., if the reviewer decides to restart the notebook and run all cells, after all the computation he will obtain exactly the same solution (with all the corresponding plots) as in your uploaded notebook. For this purpose, we suggest fixing random `seed` or (better) define `random_state=` inside every algorithm that uses some pseudorandomness.\n",
        "\n",
        "* Your code must be clear to the reviewer. For this purpose, try to include necessary comments inside the code. But remember: **GOOD CODE MUST BE SELF-EXPLANATORY** without any additional comments.\n",
        "\n",
        "* Many `sklearn` algorithms support multithreading (Ensemble Methods, Cross-Validation, etc.). Check if the particular algorithm has `n_jobs` parameters and set it to `-1` to use all the cores.\n"
      ]
    },
    {
      "cell_type": "code",
      "execution_count": 1,
      "id": "cooperative-spokesman",
      "metadata": {
        "id": "cooperative-spokesman"
      },
      "outputs": [],
      "source": [
        "import numpy as np\n",
        "import sklearn\n",
        "from sklearn.model_selection import train_test_split\n",
        "import pandas as pd\n",
        "import matplotlib.pyplot as plt\n",
        "from sklearn.model_selection import cross_val_score\n",
        "%matplotlib inline"
      ]
    },
    {
      "cell_type": "code",
      "execution_count": 2,
      "id": "noted-bridal",
      "metadata": {
        "id": "noted-bridal"
      },
      "outputs": [],
      "source": [
        "import warnings\n",
        "warnings.filterwarnings(\"ignore\")"
      ]
    },
    {
      "cell_type": "markdown",
      "id": "guilty-contamination",
      "metadata": {
        "id": "guilty-contamination"
      },
      "source": [
        "## Task 1. Model and feature selection problem (3 points)\n",
        "\n",
        "Your goal in this task is to predict the price (```price_doc```) given some characteristics of a house. In order to do that, you will demonstrate your abilities in data preprocessing, finding feature importances, applying different ML models."
      ]
    },
    {
      "cell_type": "markdown",
      "id": "friendly-review",
      "metadata": {
        "id": "friendly-review"
      },
      "source": [
        "### Subproblem 1.1. Data preprocessing and feauture importances (1 point)\n",
        "\n",
        "The goal of this subproblem is to prepare the data for further usage. Complete all of the following subtasks:"
      ]
    },
    {
      "cell_type": "markdown",
      "id": "rational-reggae",
      "metadata": {
        "id": "rational-reggae"
      },
      "source": [
        "**1.1.1) load the dataset**"
      ]
    },
    {
      "cell_type": "code",
      "execution_count": 3,
      "id": "nutritional-phoenix",
      "metadata": {
        "id": "nutritional-phoenix",
        "colab": {
          "base_uri": "https://localhost:8080/",
          "height": 386
        },
        "outputId": "e81cc00c-b4ce-4577-ed4c-ee4ea7adb8ac"
      },
      "outputs": [
        {
          "output_type": "execute_result",
          "data": {
            "text/plain": [
              "    timestamp  full_sq  life_sq  floor  max_floor  material  build_year  \\\n",
              "0  2011-08-20       43     27.0    4.0        NaN       NaN         NaN   \n",
              "1  2011-08-23       34     19.0    3.0        NaN       NaN         NaN   \n",
              "2  2011-08-27       43     29.0    2.0        NaN       NaN         NaN   \n",
              "3  2011-09-01       89     50.0    9.0        NaN       NaN         NaN   \n",
              "4  2011-09-05       77     77.0    4.0        NaN       NaN         NaN   \n",
              "\n",
              "   num_room  kitch_sq  state  ... provision_retail_space_modern_sqm  \\\n",
              "0       NaN       NaN    NaN  ...                             271.0   \n",
              "1       NaN       NaN    NaN  ...                             271.0   \n",
              "2       NaN       NaN    NaN  ...                             271.0   \n",
              "3       NaN       NaN    NaN  ...                             271.0   \n",
              "4       NaN       NaN    NaN  ...                             271.0   \n",
              "\n",
              "  turnover_catering_per_cap  theaters_viewers_per_1000_cap  \\\n",
              "0                    6943.0                          565.0   \n",
              "1                    6943.0                          565.0   \n",
              "2                    6943.0                          565.0   \n",
              "3                    6943.0                          565.0   \n",
              "4                    6943.0                          565.0   \n",
              "\n",
              "   seats_theather_rfmin_per_100000_cap  museum_visitis_per_100_cap  \\\n",
              "0                              0.45356                      1240.0   \n",
              "1                              0.45356                      1240.0   \n",
              "2                              0.45356                      1240.0   \n",
              "3                              0.45356                      1240.0   \n",
              "4                              0.45356                      1240.0   \n",
              "\n",
              "   bandwidth_sports  population_reg_sports_share  students_reg_sports_share  \\\n",
              "0          269768.0                        22.37                      64.12   \n",
              "1          269768.0                        22.37                      64.12   \n",
              "2          269768.0                        22.37                      64.12   \n",
              "3          269768.0                        22.37                      64.12   \n",
              "4          269768.0                        22.37                      64.12   \n",
              "\n",
              "   apartment_build  apartment_fund_sqm  \n",
              "0          23587.0            230310.0  \n",
              "1          23587.0            230310.0  \n",
              "2          23587.0            230310.0  \n",
              "3          23587.0            230310.0  \n",
              "4          23587.0            230310.0  \n",
              "\n",
              "[5 rows x 390 columns]"
            ],
            "text/html": [
              "\n",
              "  <div id=\"df-62d33b86-3bff-463f-8e48-a722c8ffe9de\">\n",
              "    <div class=\"colab-df-container\">\n",
              "      <div>\n",
              "<style scoped>\n",
              "    .dataframe tbody tr th:only-of-type {\n",
              "        vertical-align: middle;\n",
              "    }\n",
              "\n",
              "    .dataframe tbody tr th {\n",
              "        vertical-align: top;\n",
              "    }\n",
              "\n",
              "    .dataframe thead th {\n",
              "        text-align: right;\n",
              "    }\n",
              "</style>\n",
              "<table border=\"1\" class=\"dataframe\">\n",
              "  <thead>\n",
              "    <tr style=\"text-align: right;\">\n",
              "      <th></th>\n",
              "      <th>timestamp</th>\n",
              "      <th>full_sq</th>\n",
              "      <th>life_sq</th>\n",
              "      <th>floor</th>\n",
              "      <th>max_floor</th>\n",
              "      <th>material</th>\n",
              "      <th>build_year</th>\n",
              "      <th>num_room</th>\n",
              "      <th>kitch_sq</th>\n",
              "      <th>state</th>\n",
              "      <th>...</th>\n",
              "      <th>provision_retail_space_modern_sqm</th>\n",
              "      <th>turnover_catering_per_cap</th>\n",
              "      <th>theaters_viewers_per_1000_cap</th>\n",
              "      <th>seats_theather_rfmin_per_100000_cap</th>\n",
              "      <th>museum_visitis_per_100_cap</th>\n",
              "      <th>bandwidth_sports</th>\n",
              "      <th>population_reg_sports_share</th>\n",
              "      <th>students_reg_sports_share</th>\n",
              "      <th>apartment_build</th>\n",
              "      <th>apartment_fund_sqm</th>\n",
              "    </tr>\n",
              "  </thead>\n",
              "  <tbody>\n",
              "    <tr>\n",
              "      <th>0</th>\n",
              "      <td>2011-08-20</td>\n",
              "      <td>43</td>\n",
              "      <td>27.0</td>\n",
              "      <td>4.0</td>\n",
              "      <td>NaN</td>\n",
              "      <td>NaN</td>\n",
              "      <td>NaN</td>\n",
              "      <td>NaN</td>\n",
              "      <td>NaN</td>\n",
              "      <td>NaN</td>\n",
              "      <td>...</td>\n",
              "      <td>271.0</td>\n",
              "      <td>6943.0</td>\n",
              "      <td>565.0</td>\n",
              "      <td>0.45356</td>\n",
              "      <td>1240.0</td>\n",
              "      <td>269768.0</td>\n",
              "      <td>22.37</td>\n",
              "      <td>64.12</td>\n",
              "      <td>23587.0</td>\n",
              "      <td>230310.0</td>\n",
              "    </tr>\n",
              "    <tr>\n",
              "      <th>1</th>\n",
              "      <td>2011-08-23</td>\n",
              "      <td>34</td>\n",
              "      <td>19.0</td>\n",
              "      <td>3.0</td>\n",
              "      <td>NaN</td>\n",
              "      <td>NaN</td>\n",
              "      <td>NaN</td>\n",
              "      <td>NaN</td>\n",
              "      <td>NaN</td>\n",
              "      <td>NaN</td>\n",
              "      <td>...</td>\n",
              "      <td>271.0</td>\n",
              "      <td>6943.0</td>\n",
              "      <td>565.0</td>\n",
              "      <td>0.45356</td>\n",
              "      <td>1240.0</td>\n",
              "      <td>269768.0</td>\n",
              "      <td>22.37</td>\n",
              "      <td>64.12</td>\n",
              "      <td>23587.0</td>\n",
              "      <td>230310.0</td>\n",
              "    </tr>\n",
              "    <tr>\n",
              "      <th>2</th>\n",
              "      <td>2011-08-27</td>\n",
              "      <td>43</td>\n",
              "      <td>29.0</td>\n",
              "      <td>2.0</td>\n",
              "      <td>NaN</td>\n",
              "      <td>NaN</td>\n",
              "      <td>NaN</td>\n",
              "      <td>NaN</td>\n",
              "      <td>NaN</td>\n",
              "      <td>NaN</td>\n",
              "      <td>...</td>\n",
              "      <td>271.0</td>\n",
              "      <td>6943.0</td>\n",
              "      <td>565.0</td>\n",
              "      <td>0.45356</td>\n",
              "      <td>1240.0</td>\n",
              "      <td>269768.0</td>\n",
              "      <td>22.37</td>\n",
              "      <td>64.12</td>\n",
              "      <td>23587.0</td>\n",
              "      <td>230310.0</td>\n",
              "    </tr>\n",
              "    <tr>\n",
              "      <th>3</th>\n",
              "      <td>2011-09-01</td>\n",
              "      <td>89</td>\n",
              "      <td>50.0</td>\n",
              "      <td>9.0</td>\n",
              "      <td>NaN</td>\n",
              "      <td>NaN</td>\n",
              "      <td>NaN</td>\n",
              "      <td>NaN</td>\n",
              "      <td>NaN</td>\n",
              "      <td>NaN</td>\n",
              "      <td>...</td>\n",
              "      <td>271.0</td>\n",
              "      <td>6943.0</td>\n",
              "      <td>565.0</td>\n",
              "      <td>0.45356</td>\n",
              "      <td>1240.0</td>\n",
              "      <td>269768.0</td>\n",
              "      <td>22.37</td>\n",
              "      <td>64.12</td>\n",
              "      <td>23587.0</td>\n",
              "      <td>230310.0</td>\n",
              "    </tr>\n",
              "    <tr>\n",
              "      <th>4</th>\n",
              "      <td>2011-09-05</td>\n",
              "      <td>77</td>\n",
              "      <td>77.0</td>\n",
              "      <td>4.0</td>\n",
              "      <td>NaN</td>\n",
              "      <td>NaN</td>\n",
              "      <td>NaN</td>\n",
              "      <td>NaN</td>\n",
              "      <td>NaN</td>\n",
              "      <td>NaN</td>\n",
              "      <td>...</td>\n",
              "      <td>271.0</td>\n",
              "      <td>6943.0</td>\n",
              "      <td>565.0</td>\n",
              "      <td>0.45356</td>\n",
              "      <td>1240.0</td>\n",
              "      <td>269768.0</td>\n",
              "      <td>22.37</td>\n",
              "      <td>64.12</td>\n",
              "      <td>23587.0</td>\n",
              "      <td>230310.0</td>\n",
              "    </tr>\n",
              "  </tbody>\n",
              "</table>\n",
              "<p>5 rows × 390 columns</p>\n",
              "</div>\n",
              "      <button class=\"colab-df-convert\" onclick=\"convertToInteractive('df-62d33b86-3bff-463f-8e48-a722c8ffe9de')\"\n",
              "              title=\"Convert this dataframe to an interactive table.\"\n",
              "              style=\"display:none;\">\n",
              "        \n",
              "  <svg xmlns=\"http://www.w3.org/2000/svg\" height=\"24px\"viewBox=\"0 0 24 24\"\n",
              "       width=\"24px\">\n",
              "    <path d=\"M0 0h24v24H0V0z\" fill=\"none\"/>\n",
              "    <path d=\"M18.56 5.44l.94 2.06.94-2.06 2.06-.94-2.06-.94-.94-2.06-.94 2.06-2.06.94zm-11 1L8.5 8.5l.94-2.06 2.06-.94-2.06-.94L8.5 2.5l-.94 2.06-2.06.94zm10 10l.94 2.06.94-2.06 2.06-.94-2.06-.94-.94-2.06-.94 2.06-2.06.94z\"/><path d=\"M17.41 7.96l-1.37-1.37c-.4-.4-.92-.59-1.43-.59-.52 0-1.04.2-1.43.59L10.3 9.45l-7.72 7.72c-.78.78-.78 2.05 0 2.83L4 21.41c.39.39.9.59 1.41.59.51 0 1.02-.2 1.41-.59l7.78-7.78 2.81-2.81c.8-.78.8-2.07 0-2.86zM5.41 20L4 18.59l7.72-7.72 1.47 1.35L5.41 20z\"/>\n",
              "  </svg>\n",
              "      </button>\n",
              "      \n",
              "  <style>\n",
              "    .colab-df-container {\n",
              "      display:flex;\n",
              "      flex-wrap:wrap;\n",
              "      gap: 12px;\n",
              "    }\n",
              "\n",
              "    .colab-df-convert {\n",
              "      background-color: #E8F0FE;\n",
              "      border: none;\n",
              "      border-radius: 50%;\n",
              "      cursor: pointer;\n",
              "      display: none;\n",
              "      fill: #1967D2;\n",
              "      height: 32px;\n",
              "      padding: 0 0 0 0;\n",
              "      width: 32px;\n",
              "    }\n",
              "\n",
              "    .colab-df-convert:hover {\n",
              "      background-color: #E2EBFA;\n",
              "      box-shadow: 0px 1px 2px rgba(60, 64, 67, 0.3), 0px 1px 3px 1px rgba(60, 64, 67, 0.15);\n",
              "      fill: #174EA6;\n",
              "    }\n",
              "\n",
              "    [theme=dark] .colab-df-convert {\n",
              "      background-color: #3B4455;\n",
              "      fill: #D2E3FC;\n",
              "    }\n",
              "\n",
              "    [theme=dark] .colab-df-convert:hover {\n",
              "      background-color: #434B5C;\n",
              "      box-shadow: 0px 1px 3px 1px rgba(0, 0, 0, 0.15);\n",
              "      filter: drop-shadow(0px 1px 2px rgba(0, 0, 0, 0.3));\n",
              "      fill: #FFFFFF;\n",
              "    }\n",
              "  </style>\n",
              "\n",
              "      <script>\n",
              "        const buttonEl =\n",
              "          document.querySelector('#df-62d33b86-3bff-463f-8e48-a722c8ffe9de button.colab-df-convert');\n",
              "        buttonEl.style.display =\n",
              "          google.colab.kernel.accessAllowed ? 'block' : 'none';\n",
              "\n",
              "        async function convertToInteractive(key) {\n",
              "          const element = document.querySelector('#df-62d33b86-3bff-463f-8e48-a722c8ffe9de');\n",
              "          const dataTable =\n",
              "            await google.colab.kernel.invokeFunction('convertToInteractive',\n",
              "                                                     [key], {});\n",
              "          if (!dataTable) return;\n",
              "\n",
              "          const docLinkHtml = 'Like what you see? Visit the ' +\n",
              "            '<a target=\"_blank\" href=https://colab.research.google.com/notebooks/data_table.ipynb>data table notebook</a>'\n",
              "            + ' to learn more about interactive tables.';\n",
              "          element.innerHTML = '';\n",
              "          dataTable['output_type'] = 'display_data';\n",
              "          await google.colab.output.renderOutput(dataTable, element);\n",
              "          const docLink = document.createElement('div');\n",
              "          docLink.innerHTML = docLinkHtml;\n",
              "          element.appendChild(docLink);\n",
              "        }\n",
              "      </script>\n",
              "    </div>\n",
              "  </div>\n",
              "  "
            ]
          },
          "metadata": {},
          "execution_count": 3
        }
      ],
      "source": [
        "### BEGIN Solution (do not delete this comment)\n",
        "df = pd.read_csv('data_fs.csv')\n",
        "df.head()\n",
        "### END Solution (do not delete this comment)"
      ]
    },
    {
      "cell_type": "markdown",
      "id": "objective-working",
      "metadata": {
        "id": "objective-working"
      },
      "source": [
        "**1.1.2) preprocess the dataset by dropping the ```timestamp``` feature, filling ```NaN```s with 0, converting the categorical variables into dummy variables**"
      ]
    },
    {
      "cell_type": "code",
      "execution_count": 4,
      "id": "another-keyboard",
      "metadata": {
        "id": "another-keyboard"
      },
      "outputs": [],
      "source": [
        "### BEGIN Solution (do not delete this comment)\n",
        "df = df.fillna(0)\n",
        "\n",
        "y = df[\"price_doc\"]\n",
        "X = df.drop(\"price_doc\", axis=1)\n",
        "X = X.drop(\"timestamp\", axis=1)\n",
        "\n",
        "X = pd.get_dummies(X, sparse=True)\n",
        "### END Solution (do not delete this comment)"
      ]
    },
    {
      "cell_type": "markdown",
      "id": "dress-shanghai",
      "metadata": {
        "id": "dress-shanghai"
      },
      "source": [
        "**1.1.3) define ```x_train```, ```x_test```, ```y_train```, ```y_test```. The train-test split should be 70:30**\n"
      ]
    },
    {
      "cell_type": "code",
      "execution_count": 5,
      "id": "outdoor-runner",
      "metadata": {
        "id": "outdoor-runner",
        "colab": {
          "base_uri": "https://localhost:8080/",
          "height": 300
        },
        "outputId": "a98b9aed-d699-4b01-fd0c-352dffabf60f"
      },
      "outputs": [
        {
          "output_type": "execute_result",
          "data": {
            "text/plain": [
              "       full_sq  life_sq  floor  max_floor  material  build_year  num_room  \\\n",
              "14052       41     26.0    4.0        5.0       5.0      1962.0       2.0   \n",
              "25550       59      0.0    7.0       25.0       2.0         0.0       2.0   \n",
              "405         44     28.0    1.0        0.0       0.0         0.0       0.0   \n",
              "17451       32     21.0    6.0        9.0       5.0      1964.0       1.0   \n",
              "13393       60      0.0   11.0       25.0       1.0         0.0       2.0   \n",
              "\n",
              "       kitch_sq  state        area_m  ...  child_on_acc_pre_school_3,013  \\\n",
              "14052       7.0    2.0  1.050803e+07  ...                              0   \n",
              "25550       1.0    0.0  4.036700e+07  ...                              0   \n",
              "405         0.0    0.0  7.128794e+06  ...                              0   \n",
              "17451       5.0    2.0  8.659075e+06  ...                              0   \n",
              "13393       1.0    0.0  4.036700e+07  ...                              1   \n",
              "\n",
              "       child_on_acc_pre_school_7,311  modern_education_share_0  \\\n",
              "14052                              0                         0   \n",
              "25550                              0                         0   \n",
              "405                                0                         1   \n",
              "17451                              0                         0   \n",
              "13393                              0                         0   \n",
              "\n",
              "       modern_education_share_90,92  modern_education_share_93,08  \\\n",
              "14052                             0                             1   \n",
              "25550                             0                             1   \n",
              "405                               0                             0   \n",
              "17451                             0                             1   \n",
              "13393                             1                             0   \n",
              "\n",
              "       modern_education_share_95,4918  old_education_build_share_0  \\\n",
              "14052                               0                            0   \n",
              "25550                               0                            0   \n",
              "405                                 0                            1   \n",
              "17451                               0                            0   \n",
              "13393                               0                            0   \n",
              "\n",
              "       old_education_build_share_23,14  old_education_build_share_25,47  \\\n",
              "14052                                0                                1   \n",
              "25550                                0                                1   \n",
              "405                                  0                                0   \n",
              "17451                                0                                1   \n",
              "13393                                1                                0   \n",
              "\n",
              "       old_education_build_share_8,2517  \n",
              "14052                                 0  \n",
              "25550                                 0  \n",
              "405                                   0  \n",
              "17451                                 0  \n",
              "13393                                 0  \n",
              "\n",
              "[5 rows x 560 columns]"
            ],
            "text/html": [
              "\n",
              "  <div id=\"df-8fa7a088-f622-4cfb-94c3-cc56761cdf15\">\n",
              "    <div class=\"colab-df-container\">\n",
              "      <div>\n",
              "<style scoped>\n",
              "    .dataframe tbody tr th:only-of-type {\n",
              "        vertical-align: middle;\n",
              "    }\n",
              "\n",
              "    .dataframe tbody tr th {\n",
              "        vertical-align: top;\n",
              "    }\n",
              "\n",
              "    .dataframe thead th {\n",
              "        text-align: right;\n",
              "    }\n",
              "</style>\n",
              "<table border=\"1\" class=\"dataframe\">\n",
              "  <thead>\n",
              "    <tr style=\"text-align: right;\">\n",
              "      <th></th>\n",
              "      <th>full_sq</th>\n",
              "      <th>life_sq</th>\n",
              "      <th>floor</th>\n",
              "      <th>max_floor</th>\n",
              "      <th>material</th>\n",
              "      <th>build_year</th>\n",
              "      <th>num_room</th>\n",
              "      <th>kitch_sq</th>\n",
              "      <th>state</th>\n",
              "      <th>area_m</th>\n",
              "      <th>...</th>\n",
              "      <th>child_on_acc_pre_school_3,013</th>\n",
              "      <th>child_on_acc_pre_school_7,311</th>\n",
              "      <th>modern_education_share_0</th>\n",
              "      <th>modern_education_share_90,92</th>\n",
              "      <th>modern_education_share_93,08</th>\n",
              "      <th>modern_education_share_95,4918</th>\n",
              "      <th>old_education_build_share_0</th>\n",
              "      <th>old_education_build_share_23,14</th>\n",
              "      <th>old_education_build_share_25,47</th>\n",
              "      <th>old_education_build_share_8,2517</th>\n",
              "    </tr>\n",
              "  </thead>\n",
              "  <tbody>\n",
              "    <tr>\n",
              "      <th>14052</th>\n",
              "      <td>41</td>\n",
              "      <td>26.0</td>\n",
              "      <td>4.0</td>\n",
              "      <td>5.0</td>\n",
              "      <td>5.0</td>\n",
              "      <td>1962.0</td>\n",
              "      <td>2.0</td>\n",
              "      <td>7.0</td>\n",
              "      <td>2.0</td>\n",
              "      <td>1.050803e+07</td>\n",
              "      <td>...</td>\n",
              "      <td>0</td>\n",
              "      <td>0</td>\n",
              "      <td>0</td>\n",
              "      <td>0</td>\n",
              "      <td>1</td>\n",
              "      <td>0</td>\n",
              "      <td>0</td>\n",
              "      <td>0</td>\n",
              "      <td>1</td>\n",
              "      <td>0</td>\n",
              "    </tr>\n",
              "    <tr>\n",
              "      <th>25550</th>\n",
              "      <td>59</td>\n",
              "      <td>0.0</td>\n",
              "      <td>7.0</td>\n",
              "      <td>25.0</td>\n",
              "      <td>2.0</td>\n",
              "      <td>0.0</td>\n",
              "      <td>2.0</td>\n",
              "      <td>1.0</td>\n",
              "      <td>0.0</td>\n",
              "      <td>4.036700e+07</td>\n",
              "      <td>...</td>\n",
              "      <td>0</td>\n",
              "      <td>0</td>\n",
              "      <td>0</td>\n",
              "      <td>0</td>\n",
              "      <td>1</td>\n",
              "      <td>0</td>\n",
              "      <td>0</td>\n",
              "      <td>0</td>\n",
              "      <td>1</td>\n",
              "      <td>0</td>\n",
              "    </tr>\n",
              "    <tr>\n",
              "      <th>405</th>\n",
              "      <td>44</td>\n",
              "      <td>28.0</td>\n",
              "      <td>1.0</td>\n",
              "      <td>0.0</td>\n",
              "      <td>0.0</td>\n",
              "      <td>0.0</td>\n",
              "      <td>0.0</td>\n",
              "      <td>0.0</td>\n",
              "      <td>0.0</td>\n",
              "      <td>7.128794e+06</td>\n",
              "      <td>...</td>\n",
              "      <td>0</td>\n",
              "      <td>0</td>\n",
              "      <td>1</td>\n",
              "      <td>0</td>\n",
              "      <td>0</td>\n",
              "      <td>0</td>\n",
              "      <td>1</td>\n",
              "      <td>0</td>\n",
              "      <td>0</td>\n",
              "      <td>0</td>\n",
              "    </tr>\n",
              "    <tr>\n",
              "      <th>17451</th>\n",
              "      <td>32</td>\n",
              "      <td>21.0</td>\n",
              "      <td>6.0</td>\n",
              "      <td>9.0</td>\n",
              "      <td>5.0</td>\n",
              "      <td>1964.0</td>\n",
              "      <td>1.0</td>\n",
              "      <td>5.0</td>\n",
              "      <td>2.0</td>\n",
              "      <td>8.659075e+06</td>\n",
              "      <td>...</td>\n",
              "      <td>0</td>\n",
              "      <td>0</td>\n",
              "      <td>0</td>\n",
              "      <td>0</td>\n",
              "      <td>1</td>\n",
              "      <td>0</td>\n",
              "      <td>0</td>\n",
              "      <td>0</td>\n",
              "      <td>1</td>\n",
              "      <td>0</td>\n",
              "    </tr>\n",
              "    <tr>\n",
              "      <th>13393</th>\n",
              "      <td>60</td>\n",
              "      <td>0.0</td>\n",
              "      <td>11.0</td>\n",
              "      <td>25.0</td>\n",
              "      <td>1.0</td>\n",
              "      <td>0.0</td>\n",
              "      <td>2.0</td>\n",
              "      <td>1.0</td>\n",
              "      <td>0.0</td>\n",
              "      <td>4.036700e+07</td>\n",
              "      <td>...</td>\n",
              "      <td>1</td>\n",
              "      <td>0</td>\n",
              "      <td>0</td>\n",
              "      <td>1</td>\n",
              "      <td>0</td>\n",
              "      <td>0</td>\n",
              "      <td>0</td>\n",
              "      <td>1</td>\n",
              "      <td>0</td>\n",
              "      <td>0</td>\n",
              "    </tr>\n",
              "  </tbody>\n",
              "</table>\n",
              "<p>5 rows × 560 columns</p>\n",
              "</div>\n",
              "      <button class=\"colab-df-convert\" onclick=\"convertToInteractive('df-8fa7a088-f622-4cfb-94c3-cc56761cdf15')\"\n",
              "              title=\"Convert this dataframe to an interactive table.\"\n",
              "              style=\"display:none;\">\n",
              "        \n",
              "  <svg xmlns=\"http://www.w3.org/2000/svg\" height=\"24px\"viewBox=\"0 0 24 24\"\n",
              "       width=\"24px\">\n",
              "    <path d=\"M0 0h24v24H0V0z\" fill=\"none\"/>\n",
              "    <path d=\"M18.56 5.44l.94 2.06.94-2.06 2.06-.94-2.06-.94-.94-2.06-.94 2.06-2.06.94zm-11 1L8.5 8.5l.94-2.06 2.06-.94-2.06-.94L8.5 2.5l-.94 2.06-2.06.94zm10 10l.94 2.06.94-2.06 2.06-.94-2.06-.94-.94-2.06-.94 2.06-2.06.94z\"/><path d=\"M17.41 7.96l-1.37-1.37c-.4-.4-.92-.59-1.43-.59-.52 0-1.04.2-1.43.59L10.3 9.45l-7.72 7.72c-.78.78-.78 2.05 0 2.83L4 21.41c.39.39.9.59 1.41.59.51 0 1.02-.2 1.41-.59l7.78-7.78 2.81-2.81c.8-.78.8-2.07 0-2.86zM5.41 20L4 18.59l7.72-7.72 1.47 1.35L5.41 20z\"/>\n",
              "  </svg>\n",
              "      </button>\n",
              "      \n",
              "  <style>\n",
              "    .colab-df-container {\n",
              "      display:flex;\n",
              "      flex-wrap:wrap;\n",
              "      gap: 12px;\n",
              "    }\n",
              "\n",
              "    .colab-df-convert {\n",
              "      background-color: #E8F0FE;\n",
              "      border: none;\n",
              "      border-radius: 50%;\n",
              "      cursor: pointer;\n",
              "      display: none;\n",
              "      fill: #1967D2;\n",
              "      height: 32px;\n",
              "      padding: 0 0 0 0;\n",
              "      width: 32px;\n",
              "    }\n",
              "\n",
              "    .colab-df-convert:hover {\n",
              "      background-color: #E2EBFA;\n",
              "      box-shadow: 0px 1px 2px rgba(60, 64, 67, 0.3), 0px 1px 3px 1px rgba(60, 64, 67, 0.15);\n",
              "      fill: #174EA6;\n",
              "    }\n",
              "\n",
              "    [theme=dark] .colab-df-convert {\n",
              "      background-color: #3B4455;\n",
              "      fill: #D2E3FC;\n",
              "    }\n",
              "\n",
              "    [theme=dark] .colab-df-convert:hover {\n",
              "      background-color: #434B5C;\n",
              "      box-shadow: 0px 1px 3px 1px rgba(0, 0, 0, 0.15);\n",
              "      filter: drop-shadow(0px 1px 2px rgba(0, 0, 0, 0.3));\n",
              "      fill: #FFFFFF;\n",
              "    }\n",
              "  </style>\n",
              "\n",
              "      <script>\n",
              "        const buttonEl =\n",
              "          document.querySelector('#df-8fa7a088-f622-4cfb-94c3-cc56761cdf15 button.colab-df-convert');\n",
              "        buttonEl.style.display =\n",
              "          google.colab.kernel.accessAllowed ? 'block' : 'none';\n",
              "\n",
              "        async function convertToInteractive(key) {\n",
              "          const element = document.querySelector('#df-8fa7a088-f622-4cfb-94c3-cc56761cdf15');\n",
              "          const dataTable =\n",
              "            await google.colab.kernel.invokeFunction('convertToInteractive',\n",
              "                                                     [key], {});\n",
              "          if (!dataTable) return;\n",
              "\n",
              "          const docLinkHtml = 'Like what you see? Visit the ' +\n",
              "            '<a target=\"_blank\" href=https://colab.research.google.com/notebooks/data_table.ipynb>data table notebook</a>'\n",
              "            + ' to learn more about interactive tables.';\n",
              "          element.innerHTML = '';\n",
              "          dataTable['output_type'] = 'display_data';\n",
              "          await google.colab.output.renderOutput(dataTable, element);\n",
              "          const docLink = document.createElement('div');\n",
              "          docLink.innerHTML = docLinkHtml;\n",
              "          element.appendChild(docLink);\n",
              "        }\n",
              "      </script>\n",
              "    </div>\n",
              "  </div>\n",
              "  "
            ]
          },
          "metadata": {},
          "execution_count": 5
        }
      ],
      "source": [
        "### BEGIN Solution (do not delete this comment)\n",
        "X_train, X_test, y_train, y_test = train_test_split(X, y, test_size=0.3, random_state=0xC0FFEE)\n",
        "X_test.head()\n",
        "### END Solution (do not delete this comment)"
      ]
    },
    {
      "cell_type": "markdown",
      "id": "engaging-ready",
      "metadata": {
        "id": "engaging-ready"
      },
      "source": [
        "\n",
        "**1.1.4) plot the histogram of y values. Note that the mean of these values is very high and the distribution of the values is far from normal. Create ```y_train_log``` and ```y_test_log``` by applying $log_{y}$. Now plot the new histogram of the obtained values. You should use these log values for the next subtasks.**   "
      ]
    },
    {
      "cell_type": "code",
      "execution_count": 6,
      "id": "inclusive-outreach",
      "metadata": {
        "colab": {
          "base_uri": "https://localhost:8080/",
          "height": 947
        },
        "id": "inclusive-outreach",
        "outputId": "d905e350-f2fe-415e-8b33-d1c13d7f26e6"
      },
      "outputs": [
        {
          "output_type": "display_data",
          "data": {
            "text/plain": [
              "<Figure size 1152x1152 with 4 Axes>"
            ],
            "image/png": "[encoded data removed]"
          },
          "metadata": {
            "needs_background": "light"
          }
        }
      ],
      "source": [
        "### BEGIN Solution (do not delete this comment)\n",
        "\n",
        "fig, axes = plt.subplots(ncols=2, nrows=2, figsize=(16, 16))\n",
        "y_train_log = np.log(y_train)\n",
        "y_test_log = np.log(y_test)\n",
        "y_vals = [y_train, y_train_log, y_test, y_test_log]\n",
        "name = [\"y_train\", \"y_train_log\", \"y_test\", \"y_test_log\"]\n",
        "\n",
        "for ax, val, n in zip(axes.flat, y_vals, name):\n",
        "    plt.subplot(ax)\n",
        "    plt.title(n)\n",
        "    plt.grid()\n",
        "    plt.hist(val, bins=150)\n",
        "\n",
        "### END Solution (do not delete this comment)"
      ]
    },
    {
      "cell_type": "markdown",
      "id": "noticed-drunk",
      "metadata": {
        "id": "noticed-drunk"
      },
      "source": [
        "**1.1.5) print the number of features in the created ```x_train``` and ```x_test``` datasets. Answer the question: do you think all of these features are relevant for the adequate price prediction?**\n"
      ]
    },
    {
      "cell_type": "code",
      "execution_count": 7,
      "id": "strategic-spending",
      "metadata": {
        "colab": {
          "base_uri": "https://localhost:8080/"
        },
        "id": "strategic-spending",
        "outputId": "a52c6156-0dad-466e-c5d7-24ea059d8243"
      },
      "outputs": [
        {
          "output_type": "stream",
          "name": "stdout",
          "text": [
            "x_train shape: (21329, 560)\n",
            "x_test shape: (9142, 560)\n"
          ]
        }
      ],
      "source": [
        "### BEGIN Solution (do not delete this comment)\n",
        "\n",
        "print(\"x_train shape: {}\".format(X_train.shape))\n",
        "print(\"x_test shape: {}\".format(X_test.shape))\n",
        "\n",
        "### END Solution (do not delete this comment)"
      ]
    },
    {
      "cell_type": "markdown",
      "id": "restricted-anchor",
      "metadata": {
        "id": "restricted-anchor"
      },
      "source": [
        "**Your text answer (do not delete this comment)**:\n",
        "\n",
        "Not all features would be relevant, since their are 560 features for just one output variable so interdependence and redundant features are bound to be present"
      ]
    },
    {
      "cell_type": "markdown",
      "id": "endangered-mineral",
      "metadata": {
        "id": "endangered-mineral"
      },
      "source": [
        "**1.1.6) use random forest to find the importance of the features. Plot the histogram of the importances.**"
      ]
    },
    {
      "cell_type": "code",
      "execution_count": 8,
      "id": "residential-tongue",
      "metadata": {
        "colab": {
          "base_uri": "https://localhost:8080/",
          "height": 1000
        },
        "id": "residential-tongue",
        "outputId": "cddbd82f-9edf-4d7b-b55e-ccd601a76e72"
      },
      "outputs": [
        {
          "output_type": "execute_result",
          "data": {
            "text/plain": [
              "(array([480.,  62.,  10.,   3.,   0.,   1.,   1.,   0.,   0.,   0.,   1.,\n",
              "          1.,   0.,   0.,   0.,   0.,   0.,   0.,   0.,   0.,   0.,   0.,\n",
              "          0.,   0.,   0.,   0.,   0.,   0.,   0.,   0.,   0.,   0.,   0.,\n",
              "          0.,   0.,   0.,   0.,   0.,   0.,   0.,   0.,   0.,   0.,   0.,\n",
              "          0.,   0.,   0.,   0.,   0.,   0.,   0.,   0.,   0.,   0.,   0.,\n",
              "          0.,   0.,   0.,   0.,   0.,   0.,   0.,   0.,   0.,   0.,   0.,\n",
              "          0.,   0.,   0.,   0.,   0.,   0.,   0.,   0.,   0.,   0.,   0.,\n",
              "          0.,   0.,   0.,   0.,   0.,   0.,   0.,   0.,   0.,   0.,   0.,\n",
              "          0.,   0.,   0.,   0.,   0.,   0.,   0.,   0.,   0.,   0.,   0.,\n",
              "          1.]),\n",
              " array([0.        , 0.00289173, 0.00578346, 0.00867518, 0.01156691,\n",
              "        0.01445864, 0.01735037, 0.02024209, 0.02313382, 0.02602555,\n",
              "        0.02891728, 0.03180901, 0.03470073, 0.03759246, 0.04048419,\n",
              "        0.04337592, 0.04626765, 0.04915937, 0.0520511 , 0.05494283,\n",
              "        0.05783456, 0.06072628, 0.06361801, 0.06650974, 0.06940147,\n",
              "        0.0722932 , 0.07518492, 0.07807665, 0.08096838, 0.08386011,\n",
              "        0.08675184, 0.08964356, 0.09253529, 0.09542702, 0.09831875,\n",
              "        0.10121047, 0.1041022 , 0.10699393, 0.10988566, 0.11277739,\n",
              "        0.11566911, 0.11856084, 0.12145257, 0.1243443 , 0.12723603,\n",
              "        0.13012775, 0.13301948, 0.13591121, 0.13880294, 0.14169466,\n",
              "        0.14458639, 0.14747812, 0.15036985, 0.15326158, 0.1561533 ,\n",
              "        0.15904503, 0.16193676, 0.16482849, 0.16772021, 0.17061194,\n",
              "        0.17350367, 0.1763954 , 0.17928713, 0.18217885, 0.18507058,\n",
              "        0.18796231, 0.19085404, 0.19374577, 0.19663749, 0.19952922,\n",
              "        0.20242095, 0.20531268, 0.2082044 , 0.21109613, 0.21398786,\n",
              "        0.21687959, 0.21977132, 0.22266304, 0.22555477, 0.2284465 ,\n",
              "        0.23133823, 0.23422996, 0.23712168, 0.24001341, 0.24290514,\n",
              "        0.24579687, 0.24868859, 0.25158032, 0.25447205, 0.25736378,\n",
              "        0.26025551, 0.26314723, 0.26603896, 0.26893069, 0.27182242,\n",
              "        0.27471415, 0.27760587, 0.2804976 , 0.28338933, 0.28628106,\n",
              "        0.28917278]),\n",
              " <a list of 100 Patch objects>)"
            ]
          },
          "metadata": {},
          "execution_count": 8
        },
        {
          "output_type": "display_data",
          "data": {
            "text/plain": [
              "<Figure size 720x576 with 1 Axes>"
            ],
            "image/png": "[encoded data removed]"
          },
          "metadata": {
            "needs_background": "light"
          }
        }
      ],
      "source": [
        "### BEGIN Solution (do not delete this comment)\n",
        "\n",
        "from sklearn.ensemble import RandomForestRegressor\n",
        "\n",
        "clf = RandomForestRegressor(max_depth=15, random_state=0)\n",
        "clf.fit(X_train, y_train_log)\n",
        "\n",
        "features = X_train.columns\n",
        "imp = clf.feature_importances_\n",
        "idx = np.argsort(imp) \n",
        "\n",
        "plt.figure(figsize=(10, 8))\n",
        "plt.hist(imp, bins=100)\n",
        "### END Solution (do not delete this comment)"
      ]
    },
    {
      "cell_type": "code",
      "source": [
        "from google.colab import drive\n",
        "drive.mount('/content/drive')"
      ],
      "metadata": {
        "id": "cqKKurQxiTJB",
        "colab": {
          "base_uri": "https://localhost:8080/"
        },
        "outputId": "716b6cfd-073b-4630-fd7f-7e7273b0afa3"
      },
      "id": "cqKKurQxiTJB",
      "execution_count": 9,
      "outputs": [
        {
          "output_type": "stream",
          "name": "stdout",
          "text": [
            "Drive already mounted at /content/drive; to attempt to forcibly remount, call drive.mount(\"/content/drive\", force_remount=True).\n"
          ]
        }
      ]
    },
    {
      "cell_type": "markdown",
      "id": "ethical-firmware",
      "metadata": {
        "id": "ethical-firmware"
      },
      "source": [
        "**1.1.7) print the names of the 20 most important features**"
      ]
    },
    {
      "cell_type": "code",
      "execution_count": 10,
      "id": "amazing-marriage",
      "metadata": {
        "id": "amazing-marriage",
        "colab": {
          "base_uri": "https://localhost:8080/"
        },
        "outputId": "eadfc70f-6c41-4fc3-c73d-8a6d69c89117"
      },
      "outputs": [
        {
          "output_type": "stream",
          "name": "stdout",
          "text": [
            "Index(['full_sq', 'num_room', 'cafe_count_2000', 'sport_count_3000',\n",
            "       'cafe_count_5000_price_2500', 'cafe_count_3000', 'cafe_count_5000',\n",
            "       'metro_km_avto', 'metro_min_avto', 'micex_cbi_tr', 'ttk_km',\n",
            "       'detention_facility_km', 'kindergarten_km', 'exhibition_km',\n",
            "       'sport_count_2000', 'big_church_km', 'big_road1_km', 'brent',\n",
            "       'public_healthcare_km', 'cafe_count_5000_price_high'],\n",
            "      dtype='object')\n"
          ]
        }
      ],
      "source": [
        "### BEGIN Solution (do not delete this comment)\n",
        "\n",
        "idx = np.argsort(imp)[::-1][:20]\n",
        "important_features = features[idx][-20:]\n",
        "print(important_features)\n",
        "### END Solution (do not delete this comment)"
      ]
    },
    {
      "cell_type": "markdown",
      "id": "threaded-ivory",
      "metadata": {
        "id": "threaded-ivory"
      },
      "source": [
        "<br>"
      ]
    },
    {
      "cell_type": "markdown",
      "id": "little-toddler",
      "metadata": {
        "id": "little-toddler"
      },
      "source": [
        "### Subproblem 1.2. Training models on the most important features (1 point)"
      ]
    },
    {
      "cell_type": "markdown",
      "id": "vietnamese-patrick",
      "metadata": {
        "id": "vietnamese-patrick"
      },
      "source": [
        "In this subproblem, you will train several ML models on the found 20 most important features: train **Linear Regression**,  **Ridge regression**, **Random forest**,  **DecisionTree** and evaluate their performance using the Root Mean Squared Logarithmic Error (RMSLE) on both train/test sets. \n",
        "\n",
        "You will have to repeat the same actions in the next tasks too, so we recommend to implement\n",
        "a dedicated function for comparisons, which\n",
        "1. on input takes a training dataset `(X_train, y_train)` and a test sample `(X_test, y_test)`;\n",
        "2. it trains **all of the listed models** on the `(X_train, y_train)` sample;\n",
        "3. it computes and returns a table with the RMSLE score of each fitted model on the train and test datasets."
      ]
    },
    {
      "cell_type": "markdown",
      "id": "stupid-principle",
      "metadata": {
        "id": "stupid-principle"
      },
      "source": [
        "**1.2.1) Implement the function described above**"
      ]
    },
    {
      "cell_type": "code",
      "source": [
        "from sklearn.metrics import mean_squared_log_error\n",
        "from sklearn.metrics import mean_squared_error as mse\n",
        "from sklearn.linear_model import LinearRegression\n",
        "from sklearn.linear_model import Ridge\n",
        "from sklearn.linear_model import Lasso\n",
        "from sklearn.ensemble import RandomForestRegressor\n",
        "from sklearn.tree import DecisionTreeRegressor"
      ],
      "metadata": {
        "id": "RFgd4tAzDR7W"
      },
      "id": "RFgd4tAzDR7W",
      "execution_count": 11,
      "outputs": []
    },
    {
      "cell_type": "code",
      "execution_count": 12,
      "id": "paperback-uniform",
      "metadata": {
        "id": "paperback-uniform"
      },
      "outputs": [],
      "source": [
        "### BEGIN Solution (do not delete this comment)\n",
        "\n",
        "def train(X_train, y_train, X_test, y_test):\n",
        "    clfs = [LinearRegression(), \n",
        "            Ridge(random_state = 0), \n",
        "            Lasso(random_state = 0),\n",
        "            DecisionTreeRegressor(random_state = 0),\n",
        "            RandomForestRegressor(max_depth=10, n_estimators=20, random_state = 0)]        \n",
        "    train_er = []\n",
        "    test_er = []\n",
        "    \n",
        "    for clf in clfs:\n",
        "        clf.fit(X_train, y_train)\n",
        "        y_ = clf.predict(X_train)\n",
        "        train_error = mse(y_train, y_)\n",
        "        train_er.append(train_error)\n",
        "        Y_ = clf.predict(X_test)\n",
        "        test_error = mse(y_test, Y_)\n",
        "        test_er.append(test_error)\n",
        "        \n",
        "    return train_er, test_er\n",
        "\n",
        "### END Solution (do not delete this comment)"
      ]
    },
    {
      "cell_type": "markdown",
      "id": "demographic-honolulu",
      "metadata": {
        "id": "demographic-honolulu"
      },
      "source": [
        "**1.2.2) Apply the implemented function to our dataset (use only the 20 most important features)**"
      ]
    },
    {
      "cell_type": "code",
      "execution_count": 13,
      "id": "loved-bedroom",
      "metadata": {
        "colab": {
          "base_uri": "https://localhost:8080/",
          "height": 206
        },
        "id": "loved-bedroom",
        "outputId": "6cb7aa5d-8870-421c-da56-c83a13d3a9fa"
      },
      "outputs": [
        {
          "output_type": "execute_result",
          "data": {
            "text/plain": [
              "             Methods  Train loss  Test loss\n",
              "0  Linear Regression    0.279065   0.289080\n",
              "1              Lasso    0.279065   0.289079\n",
              "2              Ridge    0.323418   0.328066\n",
              "3              Dtree    0.000019   0.440428\n",
              "4                RFR    0.157245   0.237478"
            ],
            "text/html": [
              "\n",
              "  <div id=\"df-6183a4e0-5df1-443b-b282-2995bd1464c4\">\n",
              "    <div class=\"colab-df-container\">\n",
              "      <div>\n",
              "<style scoped>\n",
              "    .dataframe tbody tr th:only-of-type {\n",
              "        vertical-align: middle;\n",
              "    }\n",
              "\n",
              "    .dataframe tbody tr th {\n",
              "        vertical-align: top;\n",
              "    }\n",
              "\n",
              "    .dataframe thead th {\n",
              "        text-align: right;\n",
              "    }\n",
              "</style>\n",
              "<table border=\"1\" class=\"dataframe\">\n",
              "  <thead>\n",
              "    <tr style=\"text-align: right;\">\n",
              "      <th></th>\n",
              "      <th>Methods</th>\n",
              "      <th>Train loss</th>\n",
              "      <th>Test loss</th>\n",
              "    </tr>\n",
              "  </thead>\n",
              "  <tbody>\n",
              "    <tr>\n",
              "      <th>0</th>\n",
              "      <td>Linear Regression</td>\n",
              "      <td>0.279065</td>\n",
              "      <td>0.289080</td>\n",
              "    </tr>\n",
              "    <tr>\n",
              "      <th>1</th>\n",
              "      <td>Lasso</td>\n",
              "      <td>0.279065</td>\n",
              "      <td>0.289079</td>\n",
              "    </tr>\n",
              "    <tr>\n",
              "      <th>2</th>\n",
              "      <td>Ridge</td>\n",
              "      <td>0.323418</td>\n",
              "      <td>0.328066</td>\n",
              "    </tr>\n",
              "    <tr>\n",
              "      <th>3</th>\n",
              "      <td>Dtree</td>\n",
              "      <td>0.000019</td>\n",
              "      <td>0.440428</td>\n",
              "    </tr>\n",
              "    <tr>\n",
              "      <th>4</th>\n",
              "      <td>RFR</td>\n",
              "      <td>0.157245</td>\n",
              "      <td>0.237478</td>\n",
              "    </tr>\n",
              "  </tbody>\n",
              "</table>\n",
              "</div>\n",
              "      <button class=\"colab-df-convert\" onclick=\"convertToInteractive('df-6183a4e0-5df1-443b-b282-2995bd1464c4')\"\n",
              "              title=\"Convert this dataframe to an interactive table.\"\n",
              "              style=\"display:none;\">\n",
              "        \n",
              "  <svg xmlns=\"http://www.w3.org/2000/svg\" height=\"24px\"viewBox=\"0 0 24 24\"\n",
              "       width=\"24px\">\n",
              "    <path d=\"M0 0h24v24H0V0z\" fill=\"none\"/>\n",
              "    <path d=\"M18.56 5.44l.94 2.06.94-2.06 2.06-.94-2.06-.94-.94-2.06-.94 2.06-2.06.94zm-11 1L8.5 8.5l.94-2.06 2.06-.94-2.06-.94L8.5 2.5l-.94 2.06-2.06.94zm10 10l.94 2.06.94-2.06 2.06-.94-2.06-.94-.94-2.06-.94 2.06-2.06.94z\"/><path d=\"M17.41 7.96l-1.37-1.37c-.4-.4-.92-.59-1.43-.59-.52 0-1.04.2-1.43.59L10.3 9.45l-7.72 7.72c-.78.78-.78 2.05 0 2.83L4 21.41c.39.39.9.59 1.41.59.51 0 1.02-.2 1.41-.59l7.78-7.78 2.81-2.81c.8-.78.8-2.07 0-2.86zM5.41 20L4 18.59l7.72-7.72 1.47 1.35L5.41 20z\"/>\n",
              "  </svg>\n",
              "      </button>\n",
              "      \n",
              "  <style>\n",
              "    .colab-df-container {\n",
              "      display:flex;\n",
              "      flex-wrap:wrap;\n",
              "      gap: 12px;\n",
              "    }\n",
              "\n",
              "    .colab-df-convert {\n",
              "      background-color: #E8F0FE;\n",
              "      border: none;\n",
              "      border-radius: 50%;\n",
              "      cursor: pointer;\n",
              "      display: none;\n",
              "      fill: #1967D2;\n",
              "      height: 32px;\n",
              "      padding: 0 0 0 0;\n",
              "      width: 32px;\n",
              "    }\n",
              "\n",
              "    .colab-df-convert:hover {\n",
              "      background-color: #E2EBFA;\n",
              "      box-shadow: 0px 1px 2px rgba(60, 64, 67, 0.3), 0px 1px 3px 1px rgba(60, 64, 67, 0.15);\n",
              "      fill: #174EA6;\n",
              "    }\n",
              "\n",
              "    [theme=dark] .colab-df-convert {\n",
              "      background-color: #3B4455;\n",
              "      fill: #D2E3FC;\n",
              "    }\n",
              "\n",
              "    [theme=dark] .colab-df-convert:hover {\n",
              "      background-color: #434B5C;\n",
              "      box-shadow: 0px 1px 3px 1px rgba(0, 0, 0, 0.15);\n",
              "      filter: drop-shadow(0px 1px 2px rgba(0, 0, 0, 0.3));\n",
              "      fill: #FFFFFF;\n",
              "    }\n",
              "  </style>\n",
              "\n",
              "      <script>\n",
              "        const buttonEl =\n",
              "          document.querySelector('#df-6183a4e0-5df1-443b-b282-2995bd1464c4 button.colab-df-convert');\n",
              "        buttonEl.style.display =\n",
              "          google.colab.kernel.accessAllowed ? 'block' : 'none';\n",
              "\n",
              "        async function convertToInteractive(key) {\n",
              "          const element = document.querySelector('#df-6183a4e0-5df1-443b-b282-2995bd1464c4');\n",
              "          const dataTable =\n",
              "            await google.colab.kernel.invokeFunction('convertToInteractive',\n",
              "                                                     [key], {});\n",
              "          if (!dataTable) return;\n",
              "\n",
              "          const docLinkHtml = 'Like what you see? Visit the ' +\n",
              "            '<a target=\"_blank\" href=https://colab.research.google.com/notebooks/data_table.ipynb>data table notebook</a>'\n",
              "            + ' to learn more about interactive tables.';\n",
              "          element.innerHTML = '';\n",
              "          dataTable['output_type'] = 'display_data';\n",
              "          await google.colab.output.renderOutput(dataTable, element);\n",
              "          const docLink = document.createElement('div');\n",
              "          docLink.innerHTML = docLinkHtml;\n",
              "          element.appendChild(docLink);\n",
              "        }\n",
              "      </script>\n",
              "    </div>\n",
              "  </div>\n",
              "  "
            ]
          },
          "metadata": {},
          "execution_count": 13
        }
      ],
      "source": [
        "### BEGIN Solution\n",
        "\n",
        "regressors = [\"Linear Regression\", \"Lasso\", \"Ridge\", \"Dtree\", \"RFR\"]\n",
        "train_arr, test_arr = train(X_train[important_features], \n",
        "                            y_train_log, \n",
        "                            X_test[important_features], \n",
        "                            y_test_log)\n",
        "pd.DataFrame({\"Methods\": regressors,\n",
        "              \"Train loss\": train_arr,\n",
        "              \"Test loss\": test_arr\n",
        "})\n",
        "\n",
        "### END Solution"
      ]
    },
    {
      "cell_type": "markdown",
      "id": "6lSOGA4-7RSx",
      "metadata": {
        "id": "6lSOGA4-7RSx"
      },
      "source": [
        "<br>"
      ]
    },
    {
      "cell_type": "markdown",
      "id": "stock-jewel",
      "metadata": {
        "id": "stock-jewel"
      },
      "source": [
        "### Subproblem 1.3. Forward-backward methods (1 point)\n",
        "In the subproblems above, we have relied on the feature importances found by the random forest method. The main goal of this subproblem is to find feature importances by applying the forward-backward methods: the main idea is to add or remove features and compute how this removal influences the value of the loss function or some other criteria.\n",
        "\n",
        "The decision about adding or deleting a feature may be made based on:\n",
        "\n",
        "- AIC\n",
        "- BIC\n",
        "- validation error\n",
        "- Mallows $C_p$\n",
        "- sklearn's `estimator.score()`"
      ]
    },
    {
      "cell_type": "markdown",
      "id": "southern-closer",
      "metadata": {
        "id": "southern-closer"
      },
      "source": [
        "In subtasks, 1.3.1 - 1.3.3, implement the following greedy feature selection algorithm with early stopping using the mean of the RMSLE scores achieved on the 3-fold cross-validation. Please bear in mind that **the lower** RMSLE (`mean_squared_log_error`) is, **the higher the model \"quality\" is** and look up `cross_val_score(...)` peculiarities in [scikit's manual](https://scikit-learn.org/stable/documentation.html) for more information.\n",
        "\n",
        "```python\n",
        "# Initialize with an empty list of features.\n",
        "list_of_best_features = []\n",
        "\n",
        "while round < n_rounds:\n",
        "    round = round + 1\n",
        "    \n",
        "    if no_more_features:\n",
        "        # end loop\n",
        "\n",
        "    # Iterate over currently *unused* features and use $k$-fold \n",
        "    # . `cross_val_score` to measure model \"quality\".\n",
        "    compute_quality_with_each_new_unused_feature(...)\n",
        "\n",
        "    # **Add** the feature that gives the highest \"quality\" of the model.\n",
        "    pick_and_add_the_best_feature(...)\n",
        "\n",
        "    if model_quality_has_increased_since_last_round:\n",
        "        round = 0\n",
        "\n",
        "return list_of_best_features\n",
        "```"
      ]
    },
    {
      "cell_type": "markdown",
      "id": "suffering-italy",
      "metadata": {
        "id": "suffering-italy"
      },
      "source": [
        "**1.3.1) In the cell below, you have to implement a function that would iterate over a list of features and use $k$-fold `cross_val_score` to measure the model's \"quality\".** "
      ]
    },
    {
      "cell_type": "code",
      "execution_count": 14,
      "id": "caroline-state",
      "metadata": {
        "id": "caroline-state"
      },
      "outputs": [],
      "source": [
        "from sklearn.metrics import make_scorer\n",
        "\n",
        "def selection_step(model, X, y, used_features=(), cv=3):\n",
        "    \"\"\"\n",
        "    Parameters\n",
        "    ==========\n",
        "        X: ndarray - training inputs\n",
        "        y: ndarray - training targets\n",
        "        used_features: - list of features\n",
        "        cv: int - number of folds\n",
        "\n",
        "    Returns\n",
        "    =======\n",
        "        scores - dictionary of scores\n",
        "    \"\"\"\n",
        "    \n",
        "    scores = {}\n",
        "    \n",
        "    ### BEGIN Solution\n",
        "\n",
        "    shadow = np.ones(X.shape[1])\n",
        "    shadow[used_features] = 0\n",
        "    unused_features, = np.nonzero(shadow)\n",
        "\n",
        "    scorer = make_scorer(mean_squared_log_error, squared=False)\n",
        "\n",
        "    for id in unused_features:\n",
        "\n",
        "        used_features.append(id)\n",
        "        X_train = X.iloc[:, used_features]\n",
        "\n",
        "        score = cross_val_score(model, X_train, y, scoring=scorer, cv=cv, n_jobs=-1)\n",
        "        scores[id] = score.mean()\n",
        "\n",
        "        used_features.pop()\n",
        "\n",
        "    ### END Solution\n",
        "\n",
        "    return scores"
      ]
    },
    {
      "cell_type": "markdown",
      "id": "laughing-patio",
      "metadata": {
        "id": "laughing-patio"
      },
      "source": [
        "**1.3.2) Implement a forward greedy feature selection function (the one described in the pseudocode in subtask 1 above) that would**\n",
        "\n",
        "**- compute the model's \"quality\" over the currently *unused* features**\n",
        "\n",
        "**- find the feature, which has given the best score and add it to the list of the currently *used* features**\n",
        "\n",
        "**- if the model's quality has increased since the last round, add this feature to the list of the best features and  print the best score and the current best features list**\n",
        "\n",
        "**Do not forget to implement the early stopping.**"
      ]
    },
    {
      "cell_type": "code",
      "execution_count": 15,
      "id": "pressed-worse",
      "metadata": {
        "id": "pressed-worse"
      },
      "outputs": [],
      "source": [
        "def forward_steps(X, y, n_rounds, model):\n",
        "    \"\"\"\n",
        "    Parameters\n",
        "    ==========\n",
        "        X: ndarray - training inputs\n",
        "        y: ndarray - training targets\n",
        "        n_rounds: int - early stop when score doesn't increase n_rounds\n",
        "        model: sklearn model\n",
        "\n",
        "    Returns\n",
        "    =======\n",
        "        feat_best_list - list of features\n",
        "    \"\"\"\n",
        "    \n",
        "    feat_best_list = []\n",
        "\n",
        "    ### BEGIN Solution\n",
        "\n",
        "    round_cnt = 0\n",
        "    curr_score = np.inf\n",
        "\n",
        "    while round_cnt < n_rounds:\n",
        "\n",
        "        round_cnt += 1\n",
        "\n",
        "        scores = selection_step(model, X, y, feat_best_list)\n",
        "\n",
        "        best_feat_id = min(scores, key=scores.get)\n",
        "\n",
        "        if curr_score > scores[best_feat_id]:\n",
        "            feat_best_list.append(best_feat_id)\n",
        "\n",
        "            round_cnt = 0\n",
        "            curr_score = scores[best_feat_id]\n",
        "\n",
        "            print(scores[best_feat_id])\n",
        "            print(feat_best_list)\n",
        "\n",
        "    ### END Solution\n",
        "    \n",
        "    return feat_best_list\n"
      ]
    },
    {
      "cell_type": "markdown",
      "id": "geographic-holly",
      "metadata": {
        "id": "geographic-holly"
      },
      "source": [
        "**1.3.3) Use the function implemented above + DecisionTreeRegressor to get the best features according to this algorithm. (HINT: Use ```n_rounds = 2```)**"
      ]
    },
    {
      "cell_type": "code",
      "execution_count": 16,
      "id": "hazardous-retirement",
      "metadata": {
        "id": "hazardous-retirement",
        "colab": {
          "base_uri": "https://localhost:8080/"
        },
        "outputId": "80374f83-c6a7-4399-8848-923914e9be4a"
      },
      "outputs": [
        {
          "output_type": "stream",
          "name": "stdout",
          "text": [
            "0.03223340631506934\n",
            "[0]\n",
            "0.030980806595468664\n",
            "[0, 544]\n",
            "0.03075883022436106\n",
            "[0, 544, 444]\n",
            "0.030648776634129002\n",
            "[0, 544, 444, 552]\n",
            "0.030554773779440936\n",
            "[0, 544, 444, 552, 475]\n",
            "0.03050350651831765\n",
            "[0, 544, 444, 552, 475, 468]\n",
            "0.030457520930947404\n",
            "[0, 544, 444, 552, 475, 468, 401]\n",
            "0.03041676732280062\n",
            "[0, 544, 444, 552, 475, 468, 401, 459]\n",
            "0.030376188295751966\n",
            "[0, 544, 444, 552, 475, 468, 401, 459, 405]\n",
            "0.03035477055330792\n",
            "[0, 544, 444, 552, 475, 468, 401, 459, 405, 515]\n",
            "0.03032882730757309\n",
            "[0, 544, 444, 552, 475, 468, 401, 459, 405, 515, 509]\n",
            "0.03031563462960746\n",
            "[0, 544, 444, 552, 475, 468, 401, 459, 405, 515, 509, 375]\n",
            "0.03030730023213112\n",
            "[0, 544, 444, 552, 475, 468, 401, 459, 405, 515, 509, 375, 469]\n",
            "0.030296085860130145\n",
            "[0, 544, 444, 552, 475, 468, 401, 459, 405, 515, 509, 375, 469, 473]\n",
            "0.030287489259770106\n",
            "[0, 544, 444, 552, 475, 468, 401, 459, 405, 515, 509, 375, 469, 473, 466]\n",
            "0.030277894929520894\n",
            "[0, 544, 444, 552, 475, 468, 401, 459, 405, 515, 509, 375, 469, 473, 466, 442]\n",
            "0.030270347083361956\n",
            "[0, 544, 444, 552, 475, 468, 401, 459, 405, 515, 509, 375, 469, 473, 466, 442, 413]\n",
            "0.030262887991989878\n",
            "[0, 544, 444, 552, 475, 468, 401, 459, 405, 515, 509, 375, 469, 473, 466, 442, 413, 494]\n",
            "0.03025718408539819\n",
            "[0, 544, 444, 552, 475, 468, 401, 459, 405, 515, 509, 375, 469, 473, 466, 442, 413, 494, 403]\n",
            "0.030246721533852355\n",
            "[0, 544, 444, 552, 475, 468, 401, 459, 405, 515, 509, 375, 469, 473, 466, 442, 413, 494, 403, 514]\n",
            "best features indices: [0, 544, 444, 552, 475, 468, 401, 459, 405, 515, 509, 375, 469, 473, 466, 442, 413, 494, 403, 514]\n"
          ]
        }
      ],
      "source": [
        "### BEGIN Solution\n",
        "\n",
        "model = DecisionTreeRegressor(random_state=0)\n",
        "best_features = forward_steps(X_train, y_train_log, 2 , model)\n",
        "print('best features indices: {}'.format(best_features))\n",
        "\n",
        "### END Solution"
      ]
    },
    {
      "cell_type": "markdown",
      "id": "contrary-packet",
      "metadata": {
        "id": "contrary-packet"
      },
      "source": [
        "**1.3.4) Use Linear Regression, Ridge regression, Random forest and DecisionTree to get the RMSLE scores using these features. Remember the function you wrote earlier.**"
      ]
    },
    {
      "cell_type": "code",
      "execution_count": 17,
      "id": "graduate-tooth",
      "metadata": {
        "colab": {
          "base_uri": "https://localhost:8080/",
          "height": 206
        },
        "id": "graduate-tooth",
        "outputId": "ba3128dc-5088-4b06-af3f-64ab9594dd68"
      },
      "outputs": [
        {
          "output_type": "execute_result",
          "data": {
            "text/plain": [
              "             Methods  Train loss  Test loss\n",
              "0  Linear Regression    0.301579   0.304746\n",
              "1              Lasso    0.301581   0.304707\n",
              "2              Ridge    0.339881   0.346078\n",
              "3              Dtree    0.211302   0.261530\n",
              "4                RFR    0.218673   0.250640"
            ],
            "text/html": [
              "\n",
              "  <div id=\"df-1bc6a8d5-e11d-4558-95c1-112a5a72a8b9\">\n",
              "    <div class=\"colab-df-container\">\n",
              "      <div>\n",
              "<style scoped>\n",
              "    .dataframe tbody tr th:only-of-type {\n",
              "        vertical-align: middle;\n",
              "    }\n",
              "\n",
              "    .dataframe tbody tr th {\n",
              "        vertical-align: top;\n",
              "    }\n",
              "\n",
              "    .dataframe thead th {\n",
              "        text-align: right;\n",
              "    }\n",
              "</style>\n",
              "<table border=\"1\" class=\"dataframe\">\n",
              "  <thead>\n",
              "    <tr style=\"text-align: right;\">\n",
              "      <th></th>\n",
              "      <th>Methods</th>\n",
              "      <th>Train loss</th>\n",
              "      <th>Test loss</th>\n",
              "    </tr>\n",
              "  </thead>\n",
              "  <tbody>\n",
              "    <tr>\n",
              "      <th>0</th>\n",
              "      <td>Linear Regression</td>\n",
              "      <td>0.301579</td>\n",
              "      <td>0.304746</td>\n",
              "    </tr>\n",
              "    <tr>\n",
              "      <th>1</th>\n",
              "      <td>Lasso</td>\n",
              "      <td>0.301581</td>\n",
              "      <td>0.304707</td>\n",
              "    </tr>\n",
              "    <tr>\n",
              "      <th>2</th>\n",
              "      <td>Ridge</td>\n",
              "      <td>0.339881</td>\n",
              "      <td>0.346078</td>\n",
              "    </tr>\n",
              "    <tr>\n",
              "      <th>3</th>\n",
              "      <td>Dtree</td>\n",
              "      <td>0.211302</td>\n",
              "      <td>0.261530</td>\n",
              "    </tr>\n",
              "    <tr>\n",
              "      <th>4</th>\n",
              "      <td>RFR</td>\n",
              "      <td>0.218673</td>\n",
              "      <td>0.250640</td>\n",
              "    </tr>\n",
              "  </tbody>\n",
              "</table>\n",
              "</div>\n",
              "      <button class=\"colab-df-convert\" onclick=\"convertToInteractive('df-1bc6a8d5-e11d-4558-95c1-112a5a72a8b9')\"\n",
              "              title=\"Convert this dataframe to an interactive table.\"\n",
              "              style=\"display:none;\">\n",
              "        \n",
              "  <svg xmlns=\"http://www.w3.org/2000/svg\" height=\"24px\"viewBox=\"0 0 24 24\"\n",
              "       width=\"24px\">\n",
              "    <path d=\"M0 0h24v24H0V0z\" fill=\"none\"/>\n",
              "    <path d=\"M18.56 5.44l.94 2.06.94-2.06 2.06-.94-2.06-.94-.94-2.06-.94 2.06-2.06.94zm-11 1L8.5 8.5l.94-2.06 2.06-.94-2.06-.94L8.5 2.5l-.94 2.06-2.06.94zm10 10l.94 2.06.94-2.06 2.06-.94-2.06-.94-.94-2.06-.94 2.06-2.06.94z\"/><path d=\"M17.41 7.96l-1.37-1.37c-.4-.4-.92-.59-1.43-.59-.52 0-1.04.2-1.43.59L10.3 9.45l-7.72 7.72c-.78.78-.78 2.05 0 2.83L4 21.41c.39.39.9.59 1.41.59.51 0 1.02-.2 1.41-.59l7.78-7.78 2.81-2.81c.8-.78.8-2.07 0-2.86zM5.41 20L4 18.59l7.72-7.72 1.47 1.35L5.41 20z\"/>\n",
              "  </svg>\n",
              "      </button>\n",
              "      \n",
              "  <style>\n",
              "    .colab-df-container {\n",
              "      display:flex;\n",
              "      flex-wrap:wrap;\n",
              "      gap: 12px;\n",
              "    }\n",
              "\n",
              "    .colab-df-convert {\n",
              "      background-color: #E8F0FE;\n",
              "      border: none;\n",
              "      border-radius: 50%;\n",
              "      cursor: pointer;\n",
              "      display: none;\n",
              "      fill: #1967D2;\n",
              "      height: 32px;\n",
              "      padding: 0 0 0 0;\n",
              "      width: 32px;\n",
              "    }\n",
              "\n",
              "    .colab-df-convert:hover {\n",
              "      background-color: #E2EBFA;\n",
              "      box-shadow: 0px 1px 2px rgba(60, 64, 67, 0.3), 0px 1px 3px 1px rgba(60, 64, 67, 0.15);\n",
              "      fill: #174EA6;\n",
              "    }\n",
              "\n",
              "    [theme=dark] .colab-df-convert {\n",
              "      background-color: #3B4455;\n",
              "      fill: #D2E3FC;\n",
              "    }\n",
              "\n",
              "    [theme=dark] .colab-df-convert:hover {\n",
              "      background-color: #434B5C;\n",
              "      box-shadow: 0px 1px 3px 1px rgba(0, 0, 0, 0.15);\n",
              "      filter: drop-shadow(0px 1px 2px rgba(0, 0, 0, 0.3));\n",
              "      fill: #FFFFFF;\n",
              "    }\n",
              "  </style>\n",
              "\n",
              "      <script>\n",
              "        const buttonEl =\n",
              "          document.querySelector('#df-1bc6a8d5-e11d-4558-95c1-112a5a72a8b9 button.colab-df-convert');\n",
              "        buttonEl.style.display =\n",
              "          google.colab.kernel.accessAllowed ? 'block' : 'none';\n",
              "\n",
              "        async function convertToInteractive(key) {\n",
              "          const element = document.querySelector('#df-1bc6a8d5-e11d-4558-95c1-112a5a72a8b9');\n",
              "          const dataTable =\n",
              "            await google.colab.kernel.invokeFunction('convertToInteractive',\n",
              "                                                     [key], {});\n",
              "          if (!dataTable) return;\n",
              "\n",
              "          const docLinkHtml = 'Like what you see? Visit the ' +\n",
              "            '<a target=\"_blank\" href=https://colab.research.google.com/notebooks/data_table.ipynb>data table notebook</a>'\n",
              "            + ' to learn more about interactive tables.';\n",
              "          element.innerHTML = '';\n",
              "          dataTable['output_type'] = 'display_data';\n",
              "          await google.colab.output.renderOutput(dataTable, element);\n",
              "          const docLink = document.createElement('div');\n",
              "          docLink.innerHTML = docLinkHtml;\n",
              "          element.appendChild(docLink);\n",
              "        }\n",
              "      </script>\n",
              "    </div>\n",
              "  </div>\n",
              "  "
            ]
          },
          "metadata": {},
          "execution_count": 17
        }
      ],
      "source": [
        "### BEGIN Solution\n",
        "\n",
        "forward_features = X_train.iloc[:, best_features].columns._data.tolist()\n",
        "train_arr, test_arr = train(X_train[forward_features], y_train_log, X_test[forward_features], y_test_log)\n",
        "pd.DataFrame({\"Methods\": regressors,\n",
        "              \"Train loss\": train_arr,\n",
        "              \"Test loss\": test_arr\n",
        "})\n",
        "\n",
        "\n",
        "### END Solution"
      ]
    },
    {
      "cell_type": "markdown",
      "id": "infinite-navigation",
      "metadata": {
        "id": "infinite-navigation"
      },
      "source": [
        "<br>"
      ]
    },
    {
      "cell_type": "markdown",
      "id": "individual-rendering",
      "metadata": {
        "id": "individual-rendering"
      },
      "source": [
        "## Task 2. Multi-Class Classification Strategies (1 point)\n",
        "In this task, you will deal with the multiclass classification problem for the Glass Classification Data. Let's load the dataset."
      ]
    },
    {
      "cell_type": "code",
      "execution_count": 18,
      "id": "technical-trader",
      "metadata": {
        "colab": {
          "base_uri": "https://localhost:8080/",
          "height": 206
        },
        "id": "technical-trader",
        "outputId": "5d4c3e92-6a18-4486-e61c-4cb9fb24c12d"
      },
      "outputs": [
        {
          "output_type": "execute_result",
          "data": {
            "text/plain": [
              "          RI     Na    Mg    Al     Si     K    Ca    Ba    Fe  Type\n",
              "213  1.51711  14.23  0.00  2.08  73.36  0.00  8.62  1.67  0.00     7\n",
              "117  1.51708  13.72  3.68  1.81  72.06  0.64  7.88  0.00  0.00     2\n",
              "133  1.51800  13.71  3.93  1.54  71.81  0.54  8.21  0.00  0.15     2\n",
              "76   1.51645  13.44  3.61  1.54  72.39  0.66  8.03  0.00  0.00     2\n",
              "210  1.51685  14.92  0.00  1.99  73.06  0.00  8.40  1.59  0.00     7"
            ],
            "text/html": [
              "\n",
              "  <div id=\"df-c600809b-abff-4dc3-ae7d-90cc7afd17cc\">\n",
              "    <div class=\"colab-df-container\">\n",
              "      <div>\n",
              "<style scoped>\n",
              "    .dataframe tbody tr th:only-of-type {\n",
              "        vertical-align: middle;\n",
              "    }\n",
              "\n",
              "    .dataframe tbody tr th {\n",
              "        vertical-align: top;\n",
              "    }\n",
              "\n",
              "    .dataframe thead th {\n",
              "        text-align: right;\n",
              "    }\n",
              "</style>\n",
              "<table border=\"1\" class=\"dataframe\">\n",
              "  <thead>\n",
              "    <tr style=\"text-align: right;\">\n",
              "      <th></th>\n",
              "      <th>RI</th>\n",
              "      <th>Na</th>\n",
              "      <th>Mg</th>\n",
              "      <th>Al</th>\n",
              "      <th>Si</th>\n",
              "      <th>K</th>\n",
              "      <th>Ca</th>\n",
              "      <th>Ba</th>\n",
              "      <th>Fe</th>\n",
              "      <th>Type</th>\n",
              "    </tr>\n",
              "  </thead>\n",
              "  <tbody>\n",
              "    <tr>\n",
              "      <th>213</th>\n",
              "      <td>1.51711</td>\n",
              "      <td>14.23</td>\n",
              "      <td>0.00</td>\n",
              "      <td>2.08</td>\n",
              "      <td>73.36</td>\n",
              "      <td>0.00</td>\n",
              "      <td>8.62</td>\n",
              "      <td>1.67</td>\n",
              "      <td>0.00</td>\n",
              "      <td>7</td>\n",
              "    </tr>\n",
              "    <tr>\n",
              "      <th>117</th>\n",
              "      <td>1.51708</td>\n",
              "      <td>13.72</td>\n",
              "      <td>3.68</td>\n",
              "      <td>1.81</td>\n",
              "      <td>72.06</td>\n",
              "      <td>0.64</td>\n",
              "      <td>7.88</td>\n",
              "      <td>0.00</td>\n",
              "      <td>0.00</td>\n",
              "      <td>2</td>\n",
              "    </tr>\n",
              "    <tr>\n",
              "      <th>133</th>\n",
              "      <td>1.51800</td>\n",
              "      <td>13.71</td>\n",
              "      <td>3.93</td>\n",
              "      <td>1.54</td>\n",
              "      <td>71.81</td>\n",
              "      <td>0.54</td>\n",
              "      <td>8.21</td>\n",
              "      <td>0.00</td>\n",
              "      <td>0.15</td>\n",
              "      <td>2</td>\n",
              "    </tr>\n",
              "    <tr>\n",
              "      <th>76</th>\n",
              "      <td>1.51645</td>\n",
              "      <td>13.44</td>\n",
              "      <td>3.61</td>\n",
              "      <td>1.54</td>\n",
              "      <td>72.39</td>\n",
              "      <td>0.66</td>\n",
              "      <td>8.03</td>\n",
              "      <td>0.00</td>\n",
              "      <td>0.00</td>\n",
              "      <td>2</td>\n",
              "    </tr>\n",
              "    <tr>\n",
              "      <th>210</th>\n",
              "      <td>1.51685</td>\n",
              "      <td>14.92</td>\n",
              "      <td>0.00</td>\n",
              "      <td>1.99</td>\n",
              "      <td>73.06</td>\n",
              "      <td>0.00</td>\n",
              "      <td>8.40</td>\n",
              "      <td>1.59</td>\n",
              "      <td>0.00</td>\n",
              "      <td>7</td>\n",
              "    </tr>\n",
              "  </tbody>\n",
              "</table>\n",
              "</div>\n",
              "      <button class=\"colab-df-convert\" onclick=\"convertToInteractive('df-c600809b-abff-4dc3-ae7d-90cc7afd17cc')\"\n",
              "              title=\"Convert this dataframe to an interactive table.\"\n",
              "              style=\"display:none;\">\n",
              "        \n",
              "  <svg xmlns=\"http://www.w3.org/2000/svg\" height=\"24px\"viewBox=\"0 0 24 24\"\n",
              "       width=\"24px\">\n",
              "    <path d=\"M0 0h24v24H0V0z\" fill=\"none\"/>\n",
              "    <path d=\"M18.56 5.44l.94 2.06.94-2.06 2.06-.94-2.06-.94-.94-2.06-.94 2.06-2.06.94zm-11 1L8.5 8.5l.94-2.06 2.06-.94-2.06-.94L8.5 2.5l-.94 2.06-2.06.94zm10 10l.94 2.06.94-2.06 2.06-.94-2.06-.94-.94-2.06-.94 2.06-2.06.94z\"/><path d=\"M17.41 7.96l-1.37-1.37c-.4-.4-.92-.59-1.43-.59-.52 0-1.04.2-1.43.59L10.3 9.45l-7.72 7.72c-.78.78-.78 2.05 0 2.83L4 21.41c.39.39.9.59 1.41.59.51 0 1.02-.2 1.41-.59l7.78-7.78 2.81-2.81c.8-.78.8-2.07 0-2.86zM5.41 20L4 18.59l7.72-7.72 1.47 1.35L5.41 20z\"/>\n",
              "  </svg>\n",
              "      </button>\n",
              "      \n",
              "  <style>\n",
              "    .colab-df-container {\n",
              "      display:flex;\n",
              "      flex-wrap:wrap;\n",
              "      gap: 12px;\n",
              "    }\n",
              "\n",
              "    .colab-df-convert {\n",
              "      background-color: #E8F0FE;\n",
              "      border: none;\n",
              "      border-radius: 50%;\n",
              "      cursor: pointer;\n",
              "      display: none;\n",
              "      fill: #1967D2;\n",
              "      height: 32px;\n",
              "      padding: 0 0 0 0;\n",
              "      width: 32px;\n",
              "    }\n",
              "\n",
              "    .colab-df-convert:hover {\n",
              "      background-color: #E2EBFA;\n",
              "      box-shadow: 0px 1px 2px rgba(60, 64, 67, 0.3), 0px 1px 3px 1px rgba(60, 64, 67, 0.15);\n",
              "      fill: #174EA6;\n",
              "    }\n",
              "\n",
              "    [theme=dark] .colab-df-convert {\n",
              "      background-color: #3B4455;\n",
              "      fill: #D2E3FC;\n",
              "    }\n",
              "\n",
              "    [theme=dark] .colab-df-convert:hover {\n",
              "      background-color: #434B5C;\n",
              "      box-shadow: 0px 1px 3px 1px rgba(0, 0, 0, 0.15);\n",
              "      filter: drop-shadow(0px 1px 2px rgba(0, 0, 0, 0.3));\n",
              "      fill: #FFFFFF;\n",
              "    }\n",
              "  </style>\n",
              "\n",
              "      <script>\n",
              "        const buttonEl =\n",
              "          document.querySelector('#df-c600809b-abff-4dc3-ae7d-90cc7afd17cc button.colab-df-convert');\n",
              "        buttonEl.style.display =\n",
              "          google.colab.kernel.accessAllowed ? 'block' : 'none';\n",
              "\n",
              "        async function convertToInteractive(key) {\n",
              "          const element = document.querySelector('#df-c600809b-abff-4dc3-ae7d-90cc7afd17cc');\n",
              "          const dataTable =\n",
              "            await google.colab.kernel.invokeFunction('convertToInteractive',\n",
              "                                                     [key], {});\n",
              "          if (!dataTable) return;\n",
              "\n",
              "          const docLinkHtml = 'Like what you see? Visit the ' +\n",
              "            '<a target=\"_blank\" href=https://colab.research.google.com/notebooks/data_table.ipynb>data table notebook</a>'\n",
              "            + ' to learn more about interactive tables.';\n",
              "          element.innerHTML = '';\n",
              "          dataTable['output_type'] = 'display_data';\n",
              "          await google.colab.output.renderOutput(dataTable, element);\n",
              "          const docLink = document.createElement('div');\n",
              "          docLink.innerHTML = docLinkHtml;\n",
              "          element.appendChild(docLink);\n",
              "        }\n",
              "      </script>\n",
              "    </div>\n",
              "  </div>\n",
              "  "
            ]
          },
          "metadata": {},
          "execution_count": 18
        }
      ],
      "source": [
        "data = pd.read_csv('glass.csv')\n",
        "X, y = data.drop('Type', axis=1), data.Type\n",
        "data.sample(5)"
      ]
    },
    {
      "cell_type": "markdown",
      "id": "flying-region",
      "metadata": {
        "id": "flying-region"
      },
      "source": [
        "The features of each glass object correspond to the fraction of the particular chemical element in the object. The target variable corresponds to the type of glass (6 classes).\n",
        "\n",
        "In this problem, you have to empirically compare the time complexity and performance of several multiclass labeling strategies for different algorithms. You must consider the following algorithms:\n",
        "* Single Decision Tree (depth 7)\n",
        "* Medium Random Forest (100 trees of depth 3)\n",
        "* KNearestNeighbors (5 neighbors)\n",
        "* Logistic Regression\n",
        "\n",
        "Note that all these algorithms by default support **multiclass labeling**. Nevertheless, we want you to compare this approach with **OneVSRest** and **OneVSOne** approaches applied to these algorithms. More precisely, for every pair (algorithm, approach) you are to perform a 5-fold cross-validation on the data and output the validation score and the computation time in the **table** form. Please note that you also have to choose the metric to optimize during CV (e.g. accuracy, balanced accuracy) on your own. \n",
        "\n",
        "After that, you are to answer the following questions:\n",
        "* Which metric did you choose to optimize during cross-validation and why? Explain\n",
        "* For which algorithms the usage of OneVSRest/OneVSOne approach provides significantly better performance without a significant increase in computation time?"
      ]
    },
    {
      "cell_type": "code",
      "execution_count": 19,
      "id": "authentic-slope",
      "metadata": {
        "colab": {
          "base_uri": "https://localhost:8080/",
          "height": 305
        },
        "id": "authentic-slope",
        "outputId": "6b3d65bb-f134-4aeb-8d34-c037e7637d78"
      },
      "outputs": [
        {
          "output_type": "display_data",
          "data": {
            "text/plain": [
              "            LogisticRegression  RandomForestClassifier  KNeighborsClassifier  \\\n",
              "Multiclass            0.445040                0.700873              0.551071   \n",
              "OneVsRest             0.385298                0.681964              0.575159   \n",
              "OneVsOne              0.436925                0.636190              0.554921   \n",
              "\n",
              "            DecisionTreeClassifier  \n",
              "Multiclass                0.539008  \n",
              "OneVsRest                 0.585952  \n",
              "OneVsOne                  0.661944  "
            ],
            "text/html": [
              "\n",
              "  <div id=\"df-18e48edc-88bd-4b19-a6b8-42d2d6b5378e\">\n",
              "    <div class=\"colab-df-container\">\n",
              "      <div>\n",
              "<style scoped>\n",
              "    .dataframe tbody tr th:only-of-type {\n",
              "        vertical-align: middle;\n",
              "    }\n",
              "\n",
              "    .dataframe tbody tr th {\n",
              "        vertical-align: top;\n",
              "    }\n",
              "\n",
              "    .dataframe thead th {\n",
              "        text-align: right;\n",
              "    }\n",
              "</style>\n",
              "<table border=\"1\" class=\"dataframe\">\n",
              "  <thead>\n",
              "    <tr style=\"text-align: right;\">\n",
              "      <th></th>\n",
              "      <th>LogisticRegression</th>\n",
              "      <th>RandomForestClassifier</th>\n",
              "      <th>KNeighborsClassifier</th>\n",
              "      <th>DecisionTreeClassifier</th>\n",
              "    </tr>\n",
              "  </thead>\n",
              "  <tbody>\n",
              "    <tr>\n",
              "      <th>Multiclass</th>\n",
              "      <td>0.445040</td>\n",
              "      <td>0.700873</td>\n",
              "      <td>0.551071</td>\n",
              "      <td>0.539008</td>\n",
              "    </tr>\n",
              "    <tr>\n",
              "      <th>OneVsRest</th>\n",
              "      <td>0.385298</td>\n",
              "      <td>0.681964</td>\n",
              "      <td>0.575159</td>\n",
              "      <td>0.585952</td>\n",
              "    </tr>\n",
              "    <tr>\n",
              "      <th>OneVsOne</th>\n",
              "      <td>0.436925</td>\n",
              "      <td>0.636190</td>\n",
              "      <td>0.554921</td>\n",
              "      <td>0.661944</td>\n",
              "    </tr>\n",
              "  </tbody>\n",
              "</table>\n",
              "</div>\n",
              "      <button class=\"colab-df-convert\" onclick=\"convertToInteractive('df-18e48edc-88bd-4b19-a6b8-42d2d6b5378e')\"\n",
              "              title=\"Convert this dataframe to an interactive table.\"\n",
              "              style=\"display:none;\">\n",
              "        \n",
              "  <svg xmlns=\"http://www.w3.org/2000/svg\" height=\"24px\"viewBox=\"0 0 24 24\"\n",
              "       width=\"24px\">\n",
              "    <path d=\"M0 0h24v24H0V0z\" fill=\"none\"/>\n",
              "    <path d=\"M18.56 5.44l.94 2.06.94-2.06 2.06-.94-2.06-.94-.94-2.06-.94 2.06-2.06.94zm-11 1L8.5 8.5l.94-2.06 2.06-.94-2.06-.94L8.5 2.5l-.94 2.06-2.06.94zm10 10l.94 2.06.94-2.06 2.06-.94-2.06-.94-.94-2.06-.94 2.06-2.06.94z\"/><path d=\"M17.41 7.96l-1.37-1.37c-.4-.4-.92-.59-1.43-.59-.52 0-1.04.2-1.43.59L10.3 9.45l-7.72 7.72c-.78.78-.78 2.05 0 2.83L4 21.41c.39.39.9.59 1.41.59.51 0 1.02-.2 1.41-.59l7.78-7.78 2.81-2.81c.8-.78.8-2.07 0-2.86zM5.41 20L4 18.59l7.72-7.72 1.47 1.35L5.41 20z\"/>\n",
              "  </svg>\n",
              "      </button>\n",
              "      \n",
              "  <style>\n",
              "    .colab-df-container {\n",
              "      display:flex;\n",
              "      flex-wrap:wrap;\n",
              "      gap: 12px;\n",
              "    }\n",
              "\n",
              "    .colab-df-convert {\n",
              "      background-color: #E8F0FE;\n",
              "      border: none;\n",
              "      border-radius: 50%;\n",
              "      cursor: pointer;\n",
              "      display: none;\n",
              "      fill: #1967D2;\n",
              "      height: 32px;\n",
              "      padding: 0 0 0 0;\n",
              "      width: 32px;\n",
              "    }\n",
              "\n",
              "    .colab-df-convert:hover {\n",
              "      background-color: #E2EBFA;\n",
              "      box-shadow: 0px 1px 2px rgba(60, 64, 67, 0.3), 0px 1px 3px 1px rgba(60, 64, 67, 0.15);\n",
              "      fill: #174EA6;\n",
              "    }\n",
              "\n",
              "    [theme=dark] .colab-df-convert {\n",
              "      background-color: #3B4455;\n",
              "      fill: #D2E3FC;\n",
              "    }\n",
              "\n",
              "    [theme=dark] .colab-df-convert:hover {\n",
              "      background-color: #434B5C;\n",
              "      box-shadow: 0px 1px 3px 1px rgba(0, 0, 0, 0.15);\n",
              "      filter: drop-shadow(0px 1px 2px rgba(0, 0, 0, 0.3));\n",
              "      fill: #FFFFFF;\n",
              "    }\n",
              "  </style>\n",
              "\n",
              "      <script>\n",
              "        const buttonEl =\n",
              "          document.querySelector('#df-18e48edc-88bd-4b19-a6b8-42d2d6b5378e button.colab-df-convert');\n",
              "        buttonEl.style.display =\n",
              "          google.colab.kernel.accessAllowed ? 'block' : 'none';\n",
              "\n",
              "        async function convertToInteractive(key) {\n",
              "          const element = document.querySelector('#df-18e48edc-88bd-4b19-a6b8-42d2d6b5378e');\n",
              "          const dataTable =\n",
              "            await google.colab.kernel.invokeFunction('convertToInteractive',\n",
              "                                                     [key], {});\n",
              "          if (!dataTable) return;\n",
              "\n",
              "          const docLinkHtml = 'Like what you see? Visit the ' +\n",
              "            '<a target=\"_blank\" href=https://colab.research.google.com/notebooks/data_table.ipynb>data table notebook</a>'\n",
              "            + ' to learn more about interactive tables.';\n",
              "          element.innerHTML = '';\n",
              "          dataTable['output_type'] = 'display_data';\n",
              "          await google.colab.output.renderOutput(dataTable, element);\n",
              "          const docLink = document.createElement('div');\n",
              "          docLink.innerHTML = docLinkHtml;\n",
              "          element.appendChild(docLink);\n",
              "        }\n",
              "      </script>\n",
              "    </div>\n",
              "  </div>\n",
              "  "
            ]
          },
          "metadata": {}
        },
        {
          "output_type": "stream",
          "name": "stdout",
          "text": [
            "Cross Validation Scores: \n"
          ]
        },
        {
          "output_type": "display_data",
          "data": {
            "text/plain": [
              "            LogisticRegression  RandomForestClassifier  KNeighborsClassifier  \\\n",
              "Multiclass            0.034035                0.161386              0.002324   \n",
              "OneVsRest             0.174476                0.892437              0.012747   \n",
              "OneVsOne              0.312419                1.947683              0.016165   \n",
              "\n",
              "            DecisionTreeClassifier  \n",
              "Multiclass                0.002852  \n",
              "OneVsRest                 0.016070  \n",
              "OneVsOne                  0.018263  "
            ],
            "text/html": [
              "\n",
              "  <div id=\"df-92a3cbf5-fd59-448b-b1b1-6ed3da2eae72\">\n",
              "    <div class=\"colab-df-container\">\n",
              "      <div>\n",
              "<style scoped>\n",
              "    .dataframe tbody tr th:only-of-type {\n",
              "        vertical-align: middle;\n",
              "    }\n",
              "\n",
              "    .dataframe tbody tr th {\n",
              "        vertical-align: top;\n",
              "    }\n",
              "\n",
              "    .dataframe thead th {\n",
              "        text-align: right;\n",
              "    }\n",
              "</style>\n",
              "<table border=\"1\" class=\"dataframe\">\n",
              "  <thead>\n",
              "    <tr style=\"text-align: right;\">\n",
              "      <th></th>\n",
              "      <th>LogisticRegression</th>\n",
              "      <th>RandomForestClassifier</th>\n",
              "      <th>KNeighborsClassifier</th>\n",
              "      <th>DecisionTreeClassifier</th>\n",
              "    </tr>\n",
              "  </thead>\n",
              "  <tbody>\n",
              "    <tr>\n",
              "      <th>Multiclass</th>\n",
              "      <td>0.034035</td>\n",
              "      <td>0.161386</td>\n",
              "      <td>0.002324</td>\n",
              "      <td>0.002852</td>\n",
              "    </tr>\n",
              "    <tr>\n",
              "      <th>OneVsRest</th>\n",
              "      <td>0.174476</td>\n",
              "      <td>0.892437</td>\n",
              "      <td>0.012747</td>\n",
              "      <td>0.016070</td>\n",
              "    </tr>\n",
              "    <tr>\n",
              "      <th>OneVsOne</th>\n",
              "      <td>0.312419</td>\n",
              "      <td>1.947683</td>\n",
              "      <td>0.016165</td>\n",
              "      <td>0.018263</td>\n",
              "    </tr>\n",
              "  </tbody>\n",
              "</table>\n",
              "</div>\n",
              "      <button class=\"colab-df-convert\" onclick=\"convertToInteractive('df-92a3cbf5-fd59-448b-b1b1-6ed3da2eae72')\"\n",
              "              title=\"Convert this dataframe to an interactive table.\"\n",
              "              style=\"display:none;\">\n",
              "        \n",
              "  <svg xmlns=\"http://www.w3.org/2000/svg\" height=\"24px\"viewBox=\"0 0 24 24\"\n",
              "       width=\"24px\">\n",
              "    <path d=\"M0 0h24v24H0V0z\" fill=\"none\"/>\n",
              "    <path d=\"M18.56 5.44l.94 2.06.94-2.06 2.06-.94-2.06-.94-.94-2.06-.94 2.06-2.06.94zm-11 1L8.5 8.5l.94-2.06 2.06-.94-2.06-.94L8.5 2.5l-.94 2.06-2.06.94zm10 10l.94 2.06.94-2.06 2.06-.94-2.06-.94-.94-2.06-.94 2.06-2.06.94z\"/><path d=\"M17.41 7.96l-1.37-1.37c-.4-.4-.92-.59-1.43-.59-.52 0-1.04.2-1.43.59L10.3 9.45l-7.72 7.72c-.78.78-.78 2.05 0 2.83L4 21.41c.39.39.9.59 1.41.59.51 0 1.02-.2 1.41-.59l7.78-7.78 2.81-2.81c.8-.78.8-2.07 0-2.86zM5.41 20L4 18.59l7.72-7.72 1.47 1.35L5.41 20z\"/>\n",
              "  </svg>\n",
              "      </button>\n",
              "      \n",
              "  <style>\n",
              "    .colab-df-container {\n",
              "      display:flex;\n",
              "      flex-wrap:wrap;\n",
              "      gap: 12px;\n",
              "    }\n",
              "\n",
              "    .colab-df-convert {\n",
              "      background-color: #E8F0FE;\n",
              "      border: none;\n",
              "      border-radius: 50%;\n",
              "      cursor: pointer;\n",
              "      display: none;\n",
              "      fill: #1967D2;\n",
              "      height: 32px;\n",
              "      padding: 0 0 0 0;\n",
              "      width: 32px;\n",
              "    }\n",
              "\n",
              "    .colab-df-convert:hover {\n",
              "      background-color: #E2EBFA;\n",
              "      box-shadow: 0px 1px 2px rgba(60, 64, 67, 0.3), 0px 1px 3px 1px rgba(60, 64, 67, 0.15);\n",
              "      fill: #174EA6;\n",
              "    }\n",
              "\n",
              "    [theme=dark] .colab-df-convert {\n",
              "      background-color: #3B4455;\n",
              "      fill: #D2E3FC;\n",
              "    }\n",
              "\n",
              "    [theme=dark] .colab-df-convert:hover {\n",
              "      background-color: #434B5C;\n",
              "      box-shadow: 0px 1px 3px 1px rgba(0, 0, 0, 0.15);\n",
              "      filter: drop-shadow(0px 1px 2px rgba(0, 0, 0, 0.3));\n",
              "      fill: #FFFFFF;\n",
              "    }\n",
              "  </style>\n",
              "\n",
              "      <script>\n",
              "        const buttonEl =\n",
              "          document.querySelector('#df-92a3cbf5-fd59-448b-b1b1-6ed3da2eae72 button.colab-df-convert');\n",
              "        buttonEl.style.display =\n",
              "          google.colab.kernel.accessAllowed ? 'block' : 'none';\n",
              "\n",
              "        async function convertToInteractive(key) {\n",
              "          const element = document.querySelector('#df-92a3cbf5-fd59-448b-b1b1-6ed3da2eae72');\n",
              "          const dataTable =\n",
              "            await google.colab.kernel.invokeFunction('convertToInteractive',\n",
              "                                                     [key], {});\n",
              "          if (!dataTable) return;\n",
              "\n",
              "          const docLinkHtml = 'Like what you see? Visit the ' +\n",
              "            '<a target=\"_blank\" href=https://colab.research.google.com/notebooks/data_table.ipynb>data table notebook</a>'\n",
              "            + ' to learn more about interactive tables.';\n",
              "          element.innerHTML = '';\n",
              "          dataTable['output_type'] = 'display_data';\n",
              "          await google.colab.output.renderOutput(dataTable, element);\n",
              "          const docLink = document.createElement('div');\n",
              "          docLink.innerHTML = docLinkHtml;\n",
              "          element.appendChild(docLink);\n",
              "        }\n",
              "      </script>\n",
              "    </div>\n",
              "  </div>\n",
              "  "
            ]
          },
          "metadata": {}
        },
        {
          "output_type": "stream",
          "name": "stdout",
          "text": [
            "Training Duration (CV=5): \n"
          ]
        }
      ],
      "source": [
        "### BEGIN Solution (do not delete this comment)\n",
        "\n",
        "from sklearn.multiclass import OneVsRestClassifier, OneVsOneClassifier\n",
        "from sklearn.neighbors import KNeighborsClassifier\n",
        "from sklearn.tree import DecisionTreeClassifier\n",
        "from sklearn.ensemble import RandomForestClassifier\n",
        "from sklearn.metrics import balanced_accuracy_score\n",
        "from sklearn.linear_model import LogisticRegression\n",
        "from sklearn.base import clone\n",
        "from sklearn.model_selection import cross_validate\n",
        "from sklearn.metrics import make_scorer\n",
        "\n",
        "clfs = [\n",
        "    LogisticRegression(random_state=0),\n",
        "    RandomForestClassifier(random_state=0),\n",
        "    KNeighborsClassifier(n_neighbors=5),\n",
        "    DecisionTreeClassifier(max_depth=5, random_state=0)\n",
        "]\n",
        "options = [1, 2, 3]\n",
        "\n",
        "labels = ['LogisticRegression', 'RandomForestClassifier', 'KNeighborsClassifier', 'DecisionTreeClassifier']\n",
        "\n",
        "scores = {}\n",
        "time = {}\n",
        "scorer = make_scorer(balanced_accuracy_score)\n",
        "\n",
        "for op in options:    \n",
        "    for clf, lab in zip(clfs, labels):\n",
        "        if op is 1:\n",
        "            result = cross_validate(clf, X, y, scoring=scorer, cv=5)\n",
        "        elif op == 2:\n",
        "            result = cross_validate(OneVsRestClassifier(clf), X, y, scoring=scorer, cv=5)\n",
        "        elif op == 3:\n",
        "            result = cross_validate(OneVsOneClassifier(clf), X, y, scoring=scorer, cv=5)            \n",
        "        \n",
        "        if lab in scores and lab in time:\n",
        "            scores[lab].append(np.mean(result['test_score']))\n",
        "            time[lab].append(np.mean(result['fit_time']))\n",
        "\n",
        "        else:\n",
        "            scores[lab] = [np.mean(result['test_score'])]\n",
        "            time[lab] = [np.mean(result['fit_time'])]   \n",
        "\n",
        "\n",
        "scores = pd.DataFrame(data=scores, index = ['Multiclass', 'OneVsRest', 'OneVsOne'])\n",
        "time = pd.DataFrame(data=time, index = ['Multiclass', 'OneVsRest', 'OneVsOne'])\n",
        "print('Cross Validation Scores: '.format(display(scores)))\n",
        "print('Training Duration (CV=5): '.format(display(time)))\n",
        "\n",
        "\n",
        "\n",
        "### END Solution (do not delete this comment)"
      ]
    },
    {
      "cell_type": "markdown",
      "id": "married-preserve",
      "metadata": {
        "id": "married-preserve"
      },
      "source": [
        "**Which metric did you choose to optimize during cross validation and why? Explain**"
      ]
    },
    {
      "cell_type": "markdown",
      "id": "dutch-alfred",
      "metadata": {
        "id": "dutch-alfred"
      },
      "source": [
        "**Your text answer (do not delete this comment)**:\n",
        "\n",
        "Chosing balanced score accuracy seems to be a good fir because the confusion matrix of the dataset is biased "
      ]
    },
    {
      "cell_type": "markdown",
      "id": "elect-jerusalem",
      "metadata": {
        "id": "elect-jerusalem"
      },
      "source": [
        "**For which algorithms the usage of OneVSRest/OneVSOne approach provides significantly better performance without a significant increase in computation time?**"
      ]
    },
    {
      "cell_type": "markdown",
      "id": "CH04Ord57RS4",
      "metadata": {
        "id": "CH04Ord57RS4"
      },
      "source": [
        "**Your text answer (do not delete this comment)**:\n",
        "\n",
        "The time difference between OneVSOne and OneVSRest is not significant but OneVSOne outperforms the later in classifier accuracy by a significant amount "
      ]
    },
    {
      "cell_type": "markdown",
      "id": "electric-matthew",
      "metadata": {
        "id": "electric-matthew"
      },
      "source": [
        "# Task 3. Stacking (2 points)"
      ]
    },
    {
      "cell_type": "markdown",
      "id": "third-liverpool",
      "metadata": {
        "id": "third-liverpool"
      },
      "source": [
        "Stacking is an ensembling approach, which combines several algorithms (base models) to get better results. This is achieved by **a)** training the base models (any ML models) on the initial train data (or parts of the train data, see the paragraph below), **b)** training the meta-model (also an ML model) on the predictions of those base models.\n",
        "\n",
        "One of the main problems of stacking is overfitting. To avoid it, when evaluating the performance of the meta-model on the train set, the training data is divided into $ n $ folds, $ (n-1) $ of which are used for training the base models. The $ n $ -th fold is used for the overall prediction (calculating the meta-factor) in the following manner: the predictions on the $ n $ -th fold are made by the base models (already trained on the rest of the dataset), then these predictions on the $ n $ -th fold are fed as inputs to the meta-model.\n",
        "\n",
        "When evaluating the performance of the meta-model on the test set, there can be used various approaches$.^{[1]}$ For example, in order, to obtain meta-factors for the test data, the base classifiers can be retrained on the entire training set, since the problem of overfitting does not arise here. In other words, if we want to calculate the factors for the test set, we can safely use the training set to train the base classifiers (once again, as it is said in the paragraph above, if we want to calculate factors for the training set, then it is necessary to ensure that the classifier does not predict for those objects on which it has been trained).  \n",
        "\n",
        "You can read more details about stacking [blockpost](https://blog.statsbot.co/ensemble-learning-d1dcd548e936), [kaggle ensemble guide](https://mlwave.com/kaggle-ensembling-guide/).\n",
        "\n",
        "P.S. Stacking and Blending are two similar approaches to combining classifiers (ensembling). The difference is that Stacking uses out-of-fold predictions for the train set, and Blending uses a validation set to train the next layer ([source](quora.com/What-are-examples-of-blending-and-stacking-in-Machine-Learning)). Because they are so similar you can use any of them. \n",
        "\n",
        "[1] http://www.machinelearning.ru/wiki/images/5/56/Guschin2015Stacking.pdf  "
      ]
    },
    {
      "cell_type": "markdown",
      "id": "recognized-guest",
      "metadata": {
        "id": "recognized-guest"
      },
      "source": [
        "**Your task will be:**\n",
        "\n",
        "* Complete the ```meta_classfier``` function\n",
        "* Choose 6 different base models (base models can be any models that you know, and can differ between each other by different hyperparameters, models of ml, features e.t.c) and train them.\n",
        "* Report individual accuracy on the test set for each of the models.\n",
        "* Train the metaclassifier (in this case, once again, it is just an ML model) on the original dataset's features, report score on test.\n",
        "* Train the metaclassifier on the base models using $n$-fold cross-validation, as described above. Report the training score of the meta-classifier on the $ n $-th fold. Retrain the base models on the whole training set. Report the test score (accuracy) of the meta-classifier in this case.\n",
        "* Does stacking help to gain a better score?"
      ]
    },
    {
      "cell_type": "markdown",
      "id": "incident-ceremony",
      "metadata": {
        "id": "incident-ceremony"
      },
      "source": [
        "For this task we will use the dataset fetch_covertype from [sklearn](https://scikit-learn.org/stable/modules/generated/sklearn.datasets.fetch_covtype.html#sklearn.datasets.fetch_covtype). Split it train-test - 60/40.\n",
        "More details about this dataset you can find [here](https://archive.ics.uci.edu/ml/datasets/Covertype)"
      ]
    },
    {
      "cell_type": "code",
      "execution_count": 20,
      "id": "banner-input",
      "metadata": {
        "id": "banner-input"
      },
      "outputs": [],
      "source": [
        "from sklearn import datasets\n",
        "fc = sklearn.datasets.fetch_covtype()"
      ]
    },
    {
      "cell_type": "markdown",
      "id": "collected-flash",
      "metadata": {
        "id": "collected-flash"
      },
      "source": [
        "Write meta classifier function."
      ]
    },
    {
      "cell_type": "code",
      "execution_count": 21,
      "id": "brilliant-greensboro",
      "metadata": {
        "id": "brilliant-greensboro"
      },
      "outputs": [],
      "source": [
        "from tqdm import tqdm\n",
        "from sklearn.model_selection import cross_val_score, cross_val_predict\n",
        "\n",
        "def meta_classifier(base_clfs, final_classifier, X_train, X_test, y_train, cv):\n",
        "    \"\"\"\n",
        "    Meta classifier prediction using stacking. \n",
        "    Input:\n",
        "    :param base_clfs: list,  base classifiers which will be stacked together.\n",
        "    :param final_classifier: estimator, a classifier which will be used to combine the base estimators. \n",
        "    :param X_train: numpy array or pandas table, train set.\n",
        "    :param X_test: numpy array or pandas table, target for train set.\n",
        "    :param X_train: numpy array or pandas table, test set.\n",
        "    :param cv: number of cross-validation folds.\n",
        "    \n",
        "    Output:\n",
        "    :param y_pred: numpy array or pandas table, prediction of meta classifier using stacking on test set.\n",
        "    :param final_classifier(optional): estimator, trained final_calssifier.\n",
        "    \n",
        "    \n",
        "    More details https://scikit-learn.org/stable/modules/generated/sklearn.ensemble.StackingClassifier.html\n",
        "    \n",
        "    \"\"\"\n",
        "    ### BEGIN Solution (do not delete this comment)\n",
        "\n",
        "    new_features = []\n",
        "\n",
        "    for clf in tqdm(base_clfs):\n",
        "\n",
        "        y_pred = cross_val_predict(clf, X_train, y_train, n_jobs=-1, cv=cv)\n",
        "        new_features.append(y_pred)\n",
        "\n",
        "    final_classifier.fit(np.vstack(new_features).T, y_train)\n",
        "\n",
        "    y_train_final = np.vstack(new_features).T\n",
        "\n",
        "    y_train_pred = final_classifier.predict(y_train_final)\n",
        "\n",
        "    new_features = []\n",
        "\n",
        "    for clf in tqdm(base_clfs):\n",
        "\n",
        "        clf.fit(X_train, y_train)\n",
        "        new_features.append(clf.predict(X_test))\n",
        "    \n",
        "    y_test_pred = final_classifier.predict(np.vstack(new_features).T)\n",
        "\n",
        "    ### END Solution (do not delete this comment)\n",
        "    return y_train_pred, y_test_pred, final_classifier"
      ]
    },
    {
      "cell_type": "markdown",
      "id": "vfZmdicwORxq",
      "metadata": {
        "id": "vfZmdicwORxq"
      },
      "source": [
        "### Subproblem 3.1 (1 point)"
      ]
    },
    {
      "cell_type": "markdown",
      "id": "incredible-wichita",
      "metadata": {
        "id": "incredible-wichita"
      },
      "source": [
        "**3.1.1) Chose 6 different base models (base models can be any models that you know,and can differ with each other by different hyperparameters,  models of ml, features e.t.c) and train them.**"
      ]
    },
    {
      "cell_type": "code",
      "execution_count": 22,
      "id": "cleared-supply",
      "metadata": {
        "id": "cleared-supply",
        "colab": {
          "base_uri": "https://localhost:8080/"
        },
        "outputId": "ca56d15a-525b-4cb7-dd85-f2a8cfa62fbb"
      },
      "outputs": [
        {
          "output_type": "stream",
          "name": "stderr",
          "text": [
            "100%|██████████| 6/6 [04:38<00:00, 46.43s/it]\n"
          ]
        }
      ],
      "source": [
        "### BEGIN Solution (do not delete this comment)\n",
        "from sklearn.naive_bayes import GaussianNB\n",
        "from sklearn.ensemble import AdaBoostClassifier\n",
        "x_train, x_test, y_train, y_test = train_test_split(fc.data, fc.target, test_size=0.4, random_state=0)\n",
        "\n",
        "models_list = [\n",
        "    LogisticRegression(n_jobs=-1),\n",
        "    DecisionTreeClassifier(max_depth=8, random_state=0),\n",
        "    RandomForestClassifier(max_depth=3, random_state=0, n_estimators=100, n_jobs=-1),\n",
        "    DecisionTreeClassifier(max_depth=5, random_state=0),\n",
        "    GaussianNB(),\n",
        "    AdaBoostClassifier(DecisionTreeClassifier(max_depth=4, random_state=0), algorithm=\"SAMME\", n_estimators=100)\n",
        "]\n",
        "\n",
        "for clf in tqdm(models_list):\n",
        "    clf.fit(x_train, y_train)\n",
        "\n",
        "### END Solution (do not delete this comment)"
      ]
    },
    {
      "cell_type": "markdown",
      "id": "streaming-crowd",
      "metadata": {
        "id": "streaming-crowd"
      },
      "source": [
        "**3.1.2) Report individual scores on test set. As a score use accuracy.**"
      ]
    },
    {
      "cell_type": "code",
      "execution_count": 23,
      "id": "standing-breakdown",
      "metadata": {
        "id": "standing-breakdown",
        "colab": {
          "base_uri": "https://localhost:8080/"
        },
        "outputId": "cb568981-c371-495e-f791-55fafd54c5ef"
      },
      "outputs": [
        {
          "output_type": "stream",
          "name": "stdout",
          "text": [
            "LogisticRegression: 0.617985843678062\n",
            "DecisionTreeClassifier: 0.7477377853316409\n",
            "RandomForestClassifier: 0.661083023170758\n",
            "DecisionTreeClassifier: 0.7026139713001012\n",
            "GaussianNB: 0.45897893763042963\n",
            "AdaBoostClassifier: 0.6163077386458983\n"
          ]
        }
      ],
      "source": [
        "### BEGIN Solution (do not delete this comment)\n",
        "\n",
        "from sklearn.metrics import accuracy_score\n",
        "\n",
        "accuracies = []\n",
        "\n",
        "for clf in models_list:\n",
        "    y_pred = clf.predict(x_test)\n",
        "    accuracies.append(accuracy_score(y_pred, y_test))\n",
        "    print(f'{type(clf).__name__}:', accuracy_score(y_pred, y_test))\n",
        "\n",
        "### END Solution (do not delete this comment)"
      ]
    },
    {
      "cell_type": "markdown",
      "id": "8CsZdyGPOj6E",
      "metadata": {
        "id": "8CsZdyGPOj6E"
      },
      "source": [
        "### Subproblem 3.2 (1 point)"
      ]
    },
    {
      "cell_type": "markdown",
      "id": "adolescent-street",
      "metadata": {
        "id": "adolescent-street"
      },
      "source": [
        "**3.2.1) Train metaclassifier (in this case, once again, it is just an ML model) on original dataset's features. And report score on test.**"
      ]
    },
    {
      "cell_type": "code",
      "execution_count": 24,
      "id": "lesbian-fields",
      "metadata": {
        "id": "lesbian-fields",
        "colab": {
          "base_uri": "https://localhost:8080/"
        },
        "outputId": "a739e73c-b3a0-4402-e995-2be60f1214b6"
      },
      "outputs": [
        {
          "output_type": "stream",
          "name": "stdout",
          "text": [
            "DecisionTreeClassifier: 0.7477377853316409\n"
          ]
        }
      ],
      "source": [
        "### BEGIN Solution (do not delete this comment)\n",
        "\n",
        "best_clf = models_list[np.argmax(accuracies)]\n",
        "\n",
        "print(f'{type(best_clf).__name__}:', np.max(accuracies))\n",
        "\n",
        "final_clf = sklearn.base.clone(best_clf)\n",
        "\n",
        "### END Solution (do not delete this comment)"
      ]
    },
    {
      "cell_type": "markdown",
      "id": "horizontal-wallace",
      "metadata": {
        "id": "horizontal-wallace"
      },
      "source": [
        "**3.2.2) Train the metaclassifier on the base models using $n$-fold cross-validation, as described above. Report the training score of the meta-classifier on the $ n $-th fold. Retrain the base models on the whole training set. Report the test score (accuracy) of the meta-classifier in this case.**"
      ]
    },
    {
      "cell_type": "code",
      "execution_count": 25,
      "id": "renewable-concrete",
      "metadata": {
        "id": "renewable-concrete",
        "colab": {
          "base_uri": "https://localhost:8080/"
        },
        "outputId": "a2e4eabd-7357-4d8d-a8f1-f8bd37a73c2c"
      },
      "outputs": [
        {
          "output_type": "stream",
          "name": "stderr",
          "text": [
            "100%|██████████| 6/6 [07:37<00:00, 76.31s/it] \n",
            "100%|██████████| 6/6 [05:58<00:00, 59.83s/it] "
          ]
        },
        {
          "output_type": "stream",
          "name": "stdout",
          "text": [
            "\n",
            "\n",
            "Train DecisionTreeClassifier: 0.7512930032959751\n"
          ]
        },
        {
          "output_type": "stream",
          "name": "stderr",
          "text": [
            "\n"
          ]
        }
      ],
      "source": [
        "### BEGIN Solution (do not delete this comment)\n",
        "\n",
        "y_train_pred, y_test_pred, final_classifier = meta_classifier(models_list, final_clf, x_train, x_test, y_train, cv=3)\n",
        "\n",
        "print(f'\\n\\nTrain {type(final_clf).__name__}:', accuracy_score(y_train_pred, y_train))\n",
        "\n",
        "### END Solution (do not delete this comment)"
      ]
    },
    {
      "cell_type": "markdown",
      "id": "printable-premium",
      "metadata": {
        "id": "printable-premium"
      },
      "source": [
        "**3.2.3) Report score(accuracy) on test.**"
      ]
    },
    {
      "cell_type": "code",
      "execution_count": 26,
      "id": "auburn-easter",
      "metadata": {
        "id": "auburn-easter",
        "colab": {
          "base_uri": "https://localhost:8080/"
        },
        "outputId": "b67ed77a-99dc-4048-e33b-445a67532eb0"
      },
      "outputs": [
        {
          "output_type": "stream",
          "name": "stdout",
          "text": [
            "Test DecisionTreeClassifier: 0.7491276005249456\n"
          ]
        }
      ],
      "source": [
        "### BEGIN Solution (do not delete this comment)\n",
        "\n",
        "print(f'Test {type(final_clf).__name__}:', accuracy_score(y_test_pred, y_test))\n",
        "\n",
        "### END Solution (do not delete this comment)"
      ]
    },
    {
      "cell_type": "markdown",
      "id": "premier-scout",
      "metadata": {
        "id": "premier-scout"
      },
      "source": [
        "**3.2.4) Does stacking helped to gain a better score?**"
      ]
    },
    {
      "cell_type": "markdown",
      "id": "vSV5hJFR7RS-",
      "metadata": {
        "id": "vSV5hJFR7RS-"
      },
      "source": [
        "**Your text answer (do not delete this comment)**:\n",
        "\n",
        "Yes, stacking helps to improve the accuracy from .747 to .749 but maybe if I increace the cv it will really increase more. but it takes too much time ) "
      ]
    },
    {
      "cell_type": "code",
      "execution_count": 26,
      "id": "offensive-parts",
      "metadata": {
        "id": "offensive-parts"
      },
      "outputs": [],
      "source": [
        ""
      ]
    }
  ],
  "metadata": {
    "colab": {
      "name": "Prateek_Rajput_HW2_part1.ipynb",
      "provenance": []
    },
    "kernelspec": {
      "display_name": "Python 3",
      "language": "python",
      "name": "python3"
    },
    "language_info": {
      "codemirror_mode": {
        "name": "ipython",
        "version": 3
      },
      "file_extension": ".py",
      "mimetype": "text/x-python",
      "name": "python",
      "nbconvert_exporter": "python",
      "pygments_lexer": "ipython3",
      "version": "3.7.9"
    }
  },
  "nbformat": 4,
  "nbformat_minor": 5
}